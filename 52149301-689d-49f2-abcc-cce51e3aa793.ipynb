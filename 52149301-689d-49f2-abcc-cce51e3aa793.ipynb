{
 "cells": [
  {
   "cell_type": "markdown",
   "id": "892217fd",
   "metadata": {},
   "source": [
    "<div style=\"border:solid Chocolate 2px; padding: 40px\">\n",
    "\n",
    "<b>Ирина, привет!</b>\n",
    "\n",
    "Меня зовут Евгений Головин, я буду ревьюером твоего проекта. Если ты не против, то предлагаю построить наше общение на \"ты\" ;) Если удобнее на \"вы\", то нет проблем, только скажи об этом. \n",
    "\n",
    "В ходе работы я оставил тебе комментарии <font color='green'>зеленого</font>, <font color='gold'>желтого</font> и <font color='red'>красного</font> цветов. Сейчас объясню, что они значат:\n",
    "\n",
    "<br/>\n",
    "\n",
    "<div class=\"alert alert-success\">\n",
    "<h2> Комментарий ревьюера <a class=\"tocSkip\"> </h2>\n",
    "\n",
    "<b>Все супер!👍:</b> Решение на этом шаге является полностью правильным.\n",
    "</div>\n",
    "\n",
    "<br/>\n",
    "\n",
    "<div class=\"alert alert-warning\">\n",
    "    <h2> Комментарий ревьюера <a class=\"tocSkip\"> </h2>\n",
    "    \n",
    "<b>Небольшие замечания и рекомендации💡:</b> Решение на этом шаге станет еще лучше, если внести небольшие коррективы.\n",
    "</div>\n",
    "\n",
    "\n",
    "<br/>\n",
    "<div class=\"alert alert-block alert-danger\">\n",
    "<h2> Комментарий ревьюера <a class=\"tocSkip\"></h2>\n",
    "\n",
    "    \n",
    "<b>На доработку🤔:</b>\n",
    " Решение на этом шаге требует существенной переработки и внесения правок. Напоминаю, что проект не может быть принят с первого раза, если ревью содержит комментарии, рекомендующие доработать шаги.\n",
    "</div>\n",
    "    \n",
    "Увидев мой комментарий, не удаляй его, он будет очень полезен в случае повторной проверки работы :)\n",
    "    \n",
    "<div class=\"alert alert-info\">\n",
    "<b>А свой помечай вот так, чтобы я его не потерял ;)</b> \n",
    "</div>\n",
    "    \n",
    "На мои комменатрии можно и нужно реагировать, только делать это стоит так, чтобы твои и мои комменты не смешались: выделяй свои цветами, сильно отличающимися от моих.\n",
    "    \n",
    "Увидев у тебя неточность, в первый раз я лишь укажу на ее наличие и дам тебе возможность самому найти и исправить ее. На реальной работе твой руководитель будет поступать также, и я пытаюсь подготовить тебя именно к работе аналитиком. Но если ты пока не справишься с такой задачей - при следующей проверке я дам более точную подсказку!"
   ]
  },
  {
   "cell_type": "markdown",
   "id": "8735c865",
   "metadata": {},
   "source": [
    "<div class=\"alert alert-info\">\n",
    "<b>Целью данного проекта является подтверждение или опровержении гипотез, которые помогут вырасти бизнесу\n",
    "\n",
    "Анализ и подтверждение(опровержение) гипотез будет проводится на основании 3 файлов с данными:\n",
    "    \n",
    "    — users_go.csv-информация о пользователях\n",
    "    — rides_go.csv-информации о поездках\n",
    "    — subscriptions_go.csv-информации о подписках</b> \n",
    "</div>"
   ]
  },
  {
   "cell_type": "markdown",
   "id": "6660f609",
   "metadata": {},
   "source": [
    "<div class=\"alert alert-info\">\n",
    "<b>Наш анализ будет состоять из следующих этапов:\n",
    "\n",
    "    1.Загрузим имеющиеся файлы\n",
    "    \n",
    "    2.Проведем предобработку данных(наличие пропущенных значений, дубликатов приведение к нужному типу данных pandas)\n",
    "    \n",
    "    3.Проведем исследовательский анализ данных(посмотрим на соотношение пользователей с подпиской и без, возраст,наиболее популярные города и т д)\n",
    "\n",
    "    4.Проведем объединение датафреймов в один, чтобы было проще посчитать выручку и проверить гипотезы об увеличении продаж\n",
    "    \n",
    "    5.Посчитаем выручку по каждому пользователю в разрезе месяца\n",
    "    \n",
    "    6.И , наконец, проверим гипотезы о возможных точках роста бизнеса(подтвердим или опровергнем)</b> \n",
    "</div>\n",
    "                                    \n",
    "                                    "
   ]
  },
  {
   "cell_type": "markdown",
   "id": "101e90c2",
   "metadata": {},
   "source": [
    "<div class=\"alert alert-info\">\n",
    "<b>Привет, Евгений!У меня вопрос, как сделать нормальный перепос в юпитере, когда печатаешь, все нормально, выполняешь операцию, слово может некорректно перенестись</b> \n",
    "</div>"
   ]
  },
  {
   "cell_type": "markdown",
   "id": "08a1407a",
   "metadata": {},
   "source": [
    "<div class=\"alert alert-success\">\n",
    "<h2> Комментарий ревьюера v2 <a class=\"tocSkip\"> </h2>\n",
    "\n",
    "<b>Все супер!👍:</b> Не сделать) Переноси слово сразу на другую строку "
   ]
  },
  {
   "cell_type": "code",
   "execution_count": 1,
   "id": "72576667",
   "metadata": {},
   "outputs": [],
   "source": [
    "import pandas as pd\n",
    "import matplotlib.pyplot as plt\n",
    "import numpy as np"
   ]
  },
  {
   "cell_type": "markdown",
   "id": "df6ce81e",
   "metadata": {},
   "source": [
    "<div class=\"alert alert-warning\">\n",
    "    <h2> Комментарий ревьюера v1<a class=\"tocSkip\"> </h2>\n",
    "    \n",
    "<b>Небольшие замечания и рекомендации💡:</b> Нет введения. Добавь, пожалуйста, цель работы, добавь план работы и описание данных, тогда оно будет идеальным. Важно начать так, чтобы потенциальный работодатель знал все ключевые моменты проекта. Так ему будет проще оценить принимаемые тобой решения"
   ]
  },
  {
   "cell_type": "markdown",
   "id": "f5f59630",
   "metadata": {},
   "source": [
    "<div class=\"alert alert-success\">\n",
    "<h2> Комментарий ревьюера v2 <a class=\"tocSkip\"> </h2>\n",
    "\n",
    "<b>Все супер!👍:</b> Добавлен!"
   ]
  },
  {
   "cell_type": "markdown",
   "id": "c42cbe00",
   "metadata": {},
   "source": [
    "#### Шаг 1. Загрузка данных"
   ]
  },
  {
   "cell_type": "code",
   "execution_count": 2,
   "id": "eff9f206",
   "metadata": {},
   "outputs": [],
   "source": [
    "#считаем файлы\n",
    "user = pd.read_csv('/datasets/users_go.csv')\n",
    "rides = pd.read_csv('/datasets/rides_go.csv')\n",
    "subscriptions = pd.read_csv('/datasets/subscriptions_go.csv')"
   ]
  },
  {
   "cell_type": "code",
   "execution_count": 3,
   "id": "a709453b",
   "metadata": {},
   "outputs": [
    {
     "name": "stdout",
     "output_type": "stream",
     "text": [
      "<class 'pandas.core.frame.DataFrame'>\n",
      "RangeIndex: 1565 entries, 0 to 1564\n",
      "Data columns (total 5 columns):\n",
      " #   Column             Non-Null Count  Dtype \n",
      "---  ------             --------------  ----- \n",
      " 0   user_id            1565 non-null   int64 \n",
      " 1   name               1565 non-null   object\n",
      " 2   age                1565 non-null   int64 \n",
      " 3   city               1565 non-null   object\n",
      " 4   subscription_type  1565 non-null   object\n",
      "dtypes: int64(2), object(3)\n",
      "memory usage: 61.3+ KB\n"
     ]
    }
   ],
   "source": [
    "#выведем информацию о файле user\n",
    "user.info()"
   ]
  },
  {
   "cell_type": "code",
   "execution_count": 4,
   "id": "69d80065",
   "metadata": {},
   "outputs": [
    {
     "data": {
      "text/html": [
       "<div>\n",
       "<style scoped>\n",
       "    .dataframe tbody tr th:only-of-type {\n",
       "        vertical-align: middle;\n",
       "    }\n",
       "\n",
       "    .dataframe tbody tr th {\n",
       "        vertical-align: top;\n",
       "    }\n",
       "\n",
       "    .dataframe thead th {\n",
       "        text-align: right;\n",
       "    }\n",
       "</style>\n",
       "<table border=\"1\" class=\"dataframe\">\n",
       "  <thead>\n",
       "    <tr style=\"text-align: right;\">\n",
       "      <th></th>\n",
       "      <th>user_id</th>\n",
       "      <th>name</th>\n",
       "      <th>age</th>\n",
       "      <th>city</th>\n",
       "      <th>subscription_type</th>\n",
       "    </tr>\n",
       "  </thead>\n",
       "  <tbody>\n",
       "    <tr>\n",
       "      <th>0</th>\n",
       "      <td>1</td>\n",
       "      <td>Кира</td>\n",
       "      <td>22</td>\n",
       "      <td>Тюмень</td>\n",
       "      <td>ultra</td>\n",
       "    </tr>\n",
       "    <tr>\n",
       "      <th>1</th>\n",
       "      <td>2</td>\n",
       "      <td>Станислав</td>\n",
       "      <td>31</td>\n",
       "      <td>Омск</td>\n",
       "      <td>ultra</td>\n",
       "    </tr>\n",
       "    <tr>\n",
       "      <th>2</th>\n",
       "      <td>3</td>\n",
       "      <td>Алексей</td>\n",
       "      <td>20</td>\n",
       "      <td>Москва</td>\n",
       "      <td>ultra</td>\n",
       "    </tr>\n",
       "    <tr>\n",
       "      <th>3</th>\n",
       "      <td>4</td>\n",
       "      <td>Константин</td>\n",
       "      <td>26</td>\n",
       "      <td>Ростов-на-Дону</td>\n",
       "      <td>ultra</td>\n",
       "    </tr>\n",
       "    <tr>\n",
       "      <th>4</th>\n",
       "      <td>5</td>\n",
       "      <td>Адель</td>\n",
       "      <td>28</td>\n",
       "      <td>Омск</td>\n",
       "      <td>ultra</td>\n",
       "    </tr>\n",
       "    <tr>\n",
       "      <th>5</th>\n",
       "      <td>6</td>\n",
       "      <td>Регина</td>\n",
       "      <td>25</td>\n",
       "      <td>Краснодар</td>\n",
       "      <td>ultra</td>\n",
       "    </tr>\n",
       "    <tr>\n",
       "      <th>6</th>\n",
       "      <td>7</td>\n",
       "      <td>Игорь</td>\n",
       "      <td>23</td>\n",
       "      <td>Омск</td>\n",
       "      <td>ultra</td>\n",
       "    </tr>\n",
       "    <tr>\n",
       "      <th>7</th>\n",
       "      <td>8</td>\n",
       "      <td>Юрий</td>\n",
       "      <td>23</td>\n",
       "      <td>Краснодар</td>\n",
       "      <td>ultra</td>\n",
       "    </tr>\n",
       "    <tr>\n",
       "      <th>8</th>\n",
       "      <td>9</td>\n",
       "      <td>Ян</td>\n",
       "      <td>21</td>\n",
       "      <td>Пятигорск</td>\n",
       "      <td>ultra</td>\n",
       "    </tr>\n",
       "    <tr>\n",
       "      <th>9</th>\n",
       "      <td>10</td>\n",
       "      <td>Валерий</td>\n",
       "      <td>18</td>\n",
       "      <td>Екатеринбург</td>\n",
       "      <td>ultra</td>\n",
       "    </tr>\n",
       "  </tbody>\n",
       "</table>\n",
       "</div>"
      ],
      "text/plain": [
       "   user_id        name  age            city subscription_type\n",
       "0        1        Кира   22          Тюмень             ultra\n",
       "1        2   Станислав   31            Омск             ultra\n",
       "2        3     Алексей   20          Москва             ultra\n",
       "3        4  Константин   26  Ростов-на-Дону             ultra\n",
       "4        5       Адель   28            Омск             ultra\n",
       "5        6      Регина   25       Краснодар             ultra\n",
       "6        7       Игорь   23            Омск             ultra\n",
       "7        8        Юрий   23       Краснодар             ultra\n",
       "8        9          Ян   21       Пятигорск             ultra\n",
       "9       10     Валерий   18    Екатеринбург             ultra"
      ]
     },
     "execution_count": 4,
     "metadata": {},
     "output_type": "execute_result"
    }
   ],
   "source": [
    "#выведем первые 10 строчек  файла user\n",
    "user.head(10)"
   ]
  },
  {
   "cell_type": "code",
   "execution_count": 5,
   "id": "adf81b5b",
   "metadata": {},
   "outputs": [
    {
     "name": "stdout",
     "output_type": "stream",
     "text": [
      "<class 'pandas.core.frame.DataFrame'>\n",
      "RangeIndex: 18068 entries, 0 to 18067\n",
      "Data columns (total 4 columns):\n",
      " #   Column    Non-Null Count  Dtype  \n",
      "---  ------    --------------  -----  \n",
      " 0   user_id   18068 non-null  int64  \n",
      " 1   distance  18068 non-null  float64\n",
      " 2   duration  18068 non-null  float64\n",
      " 3   date      18068 non-null  object \n",
      "dtypes: float64(2), int64(1), object(1)\n",
      "memory usage: 564.8+ KB\n"
     ]
    }
   ],
   "source": [
    "#выведем информацию о файле rides\n",
    "rides.info()"
   ]
  },
  {
   "cell_type": "code",
   "execution_count": 6,
   "id": "f1535699",
   "metadata": {},
   "outputs": [
    {
     "data": {
      "text/html": [
       "<div>\n",
       "<style scoped>\n",
       "    .dataframe tbody tr th:only-of-type {\n",
       "        vertical-align: middle;\n",
       "    }\n",
       "\n",
       "    .dataframe tbody tr th {\n",
       "        vertical-align: top;\n",
       "    }\n",
       "\n",
       "    .dataframe thead th {\n",
       "        text-align: right;\n",
       "    }\n",
       "</style>\n",
       "<table border=\"1\" class=\"dataframe\">\n",
       "  <thead>\n",
       "    <tr style=\"text-align: right;\">\n",
       "      <th></th>\n",
       "      <th>user_id</th>\n",
       "      <th>distance</th>\n",
       "      <th>duration</th>\n",
       "      <th>date</th>\n",
       "    </tr>\n",
       "  </thead>\n",
       "  <tbody>\n",
       "    <tr>\n",
       "      <th>0</th>\n",
       "      <td>1</td>\n",
       "      <td>4409.919140</td>\n",
       "      <td>25.599769</td>\n",
       "      <td>2021-01-01</td>\n",
       "    </tr>\n",
       "    <tr>\n",
       "      <th>1</th>\n",
       "      <td>1</td>\n",
       "      <td>2617.592153</td>\n",
       "      <td>15.816871</td>\n",
       "      <td>2021-01-18</td>\n",
       "    </tr>\n",
       "    <tr>\n",
       "      <th>2</th>\n",
       "      <td>1</td>\n",
       "      <td>754.159807</td>\n",
       "      <td>6.232113</td>\n",
       "      <td>2021-04-20</td>\n",
       "    </tr>\n",
       "    <tr>\n",
       "      <th>3</th>\n",
       "      <td>1</td>\n",
       "      <td>2694.783254</td>\n",
       "      <td>18.511000</td>\n",
       "      <td>2021-08-11</td>\n",
       "    </tr>\n",
       "    <tr>\n",
       "      <th>4</th>\n",
       "      <td>1</td>\n",
       "      <td>4028.687306</td>\n",
       "      <td>26.265803</td>\n",
       "      <td>2021-08-28</td>\n",
       "    </tr>\n",
       "    <tr>\n",
       "      <th>5</th>\n",
       "      <td>1</td>\n",
       "      <td>2770.890808</td>\n",
       "      <td>16.650138</td>\n",
       "      <td>2021-10-09</td>\n",
       "    </tr>\n",
       "    <tr>\n",
       "      <th>6</th>\n",
       "      <td>1</td>\n",
       "      <td>3039.020292</td>\n",
       "      <td>14.927879</td>\n",
       "      <td>2021-10-19</td>\n",
       "    </tr>\n",
       "    <tr>\n",
       "      <th>7</th>\n",
       "      <td>1</td>\n",
       "      <td>2842.118050</td>\n",
       "      <td>23.117468</td>\n",
       "      <td>2021-11-06</td>\n",
       "    </tr>\n",
       "    <tr>\n",
       "      <th>8</th>\n",
       "      <td>1</td>\n",
       "      <td>3412.690668</td>\n",
       "      <td>15.238072</td>\n",
       "      <td>2021-11-14</td>\n",
       "    </tr>\n",
       "    <tr>\n",
       "      <th>9</th>\n",
       "      <td>1</td>\n",
       "      <td>748.690645</td>\n",
       "      <td>15.041884</td>\n",
       "      <td>2021-11-22</td>\n",
       "    </tr>\n",
       "  </tbody>\n",
       "</table>\n",
       "</div>"
      ],
      "text/plain": [
       "   user_id     distance   duration        date\n",
       "0        1  4409.919140  25.599769  2021-01-01\n",
       "1        1  2617.592153  15.816871  2021-01-18\n",
       "2        1   754.159807   6.232113  2021-04-20\n",
       "3        1  2694.783254  18.511000  2021-08-11\n",
       "4        1  4028.687306  26.265803  2021-08-28\n",
       "5        1  2770.890808  16.650138  2021-10-09\n",
       "6        1  3039.020292  14.927879  2021-10-19\n",
       "7        1  2842.118050  23.117468  2021-11-06\n",
       "8        1  3412.690668  15.238072  2021-11-14\n",
       "9        1   748.690645  15.041884  2021-11-22"
      ]
     },
     "execution_count": 6,
     "metadata": {},
     "output_type": "execute_result"
    }
   ],
   "source": [
    "#выведем первые 10 строчек  файла rides\n",
    "rides.head(10)"
   ]
  },
  {
   "cell_type": "code",
   "execution_count": 7,
   "id": "56ba47e8",
   "metadata": {},
   "outputs": [
    {
     "name": "stdout",
     "output_type": "stream",
     "text": [
      "<class 'pandas.core.frame.DataFrame'>\n",
      "RangeIndex: 2 entries, 0 to 1\n",
      "Data columns (total 4 columns):\n",
      " #   Column             Non-Null Count  Dtype \n",
      "---  ------             --------------  ----- \n",
      " 0   subscription_type  2 non-null      object\n",
      " 1   minute_price       2 non-null      int64 \n",
      " 2   start_ride_price   2 non-null      int64 \n",
      " 3   subscription_fee   2 non-null      int64 \n",
      "dtypes: int64(3), object(1)\n",
      "memory usage: 192.0+ bytes\n"
     ]
    }
   ],
   "source": [
    "#выведем информацию о файле subscriptions\n",
    "subscriptions.info()"
   ]
  },
  {
   "cell_type": "code",
   "execution_count": 8,
   "id": "10402c5f",
   "metadata": {},
   "outputs": [
    {
     "data": {
      "text/html": [
       "<div>\n",
       "<style scoped>\n",
       "    .dataframe tbody tr th:only-of-type {\n",
       "        vertical-align: middle;\n",
       "    }\n",
       "\n",
       "    .dataframe tbody tr th {\n",
       "        vertical-align: top;\n",
       "    }\n",
       "\n",
       "    .dataframe thead th {\n",
       "        text-align: right;\n",
       "    }\n",
       "</style>\n",
       "<table border=\"1\" class=\"dataframe\">\n",
       "  <thead>\n",
       "    <tr style=\"text-align: right;\">\n",
       "      <th></th>\n",
       "      <th>subscription_type</th>\n",
       "      <th>minute_price</th>\n",
       "      <th>start_ride_price</th>\n",
       "      <th>subscription_fee</th>\n",
       "    </tr>\n",
       "  </thead>\n",
       "  <tbody>\n",
       "    <tr>\n",
       "      <th>0</th>\n",
       "      <td>free</td>\n",
       "      <td>8</td>\n",
       "      <td>50</td>\n",
       "      <td>0</td>\n",
       "    </tr>\n",
       "    <tr>\n",
       "      <th>1</th>\n",
       "      <td>ultra</td>\n",
       "      <td>6</td>\n",
       "      <td>0</td>\n",
       "      <td>199</td>\n",
       "    </tr>\n",
       "  </tbody>\n",
       "</table>\n",
       "</div>"
      ],
      "text/plain": [
       "  subscription_type  minute_price  start_ride_price  subscription_fee\n",
       "0              free             8                50                 0\n",
       "1             ultra             6                 0               199"
      ]
     },
     "execution_count": 8,
     "metadata": {},
     "output_type": "execute_result"
    }
   ],
   "source": [
    "#выведем первые 10 строчек  файла subscriptions\n",
    "subscriptions.head(10)"
   ]
  },
  {
   "cell_type": "markdown",
   "id": "7fca2b45",
   "metadata": {},
   "source": [
    "Выводы по загрузке данных:\n",
    "\n",
    "1.Файл user содержит 5 столбцов и 1565 строк.\n",
    "\n",
    "2.Файл rides содержит 4 столбца и 18068 строк.\n",
    "\n",
    "3.Файл subscriptions содержит 4 столбца и 2 строки."
   ]
  },
  {
   "cell_type": "markdown",
   "id": "934b4304",
   "metadata": {},
   "source": [
    "<div class=\"alert alert-success\">\n",
    "<h2> Комментарий ревьюера v1 <a class=\"tocSkip\"> </h2>\n",
    "\n",
    "<b>Все супер!👍:</b>  Отличный обзор данных из файла!"
   ]
  },
  {
   "cell_type": "markdown",
   "id": "e95ebca7",
   "metadata": {},
   "source": [
    "#### Шаг 2. Предобработка данных"
   ]
  },
  {
   "cell_type": "code",
   "execution_count": 9,
   "id": "af6d202c",
   "metadata": {},
   "outputs": [],
   "source": [
    "#приведем столбец date файла rides_go.csv к типу даты pandas\n",
    "rides['date'] = pd.to_datetime(\n",
    "    rides['date'], format= '%Y-%m-%d')"
   ]
  },
  {
   "cell_type": "code",
   "execution_count": 10,
   "id": "051aad2f",
   "metadata": {},
   "outputs": [
    {
     "name": "stdout",
     "output_type": "stream",
     "text": [
      "<class 'pandas.core.frame.DataFrame'>\n",
      "RangeIndex: 18068 entries, 0 to 18067\n",
      "Data columns (total 4 columns):\n",
      " #   Column    Non-Null Count  Dtype         \n",
      "---  ------    --------------  -----         \n",
      " 0   user_id   18068 non-null  int64         \n",
      " 1   distance  18068 non-null  float64       \n",
      " 2   duration  18068 non-null  float64       \n",
      " 3   date      18068 non-null  datetime64[ns]\n",
      "dtypes: datetime64[ns](1), float64(2), int64(1)\n",
      "memory usage: 564.8 KB\n"
     ]
    }
   ],
   "source": [
    "#выполним проверку\n",
    "rides.info()"
   ]
  },
  {
   "cell_type": "code",
   "execution_count": 11,
   "id": "65438c5c",
   "metadata": {},
   "outputs": [],
   "source": [
    "#создадим новый столбец new_month с номером месяца на основе rides['date']\n",
    "rides['new_month'] = pd.DatetimeIndex(rides['date']).month"
   ]
  },
  {
   "cell_type": "code",
   "execution_count": 12,
   "id": "b4762aaa",
   "metadata": {},
   "outputs": [
    {
     "data": {
      "text/html": [
       "<div>\n",
       "<style scoped>\n",
       "    .dataframe tbody tr th:only-of-type {\n",
       "        vertical-align: middle;\n",
       "    }\n",
       "\n",
       "    .dataframe tbody tr th {\n",
       "        vertical-align: top;\n",
       "    }\n",
       "\n",
       "    .dataframe thead th {\n",
       "        text-align: right;\n",
       "    }\n",
       "</style>\n",
       "<table border=\"1\" class=\"dataframe\">\n",
       "  <thead>\n",
       "    <tr style=\"text-align: right;\">\n",
       "      <th></th>\n",
       "      <th>user_id</th>\n",
       "      <th>distance</th>\n",
       "      <th>duration</th>\n",
       "      <th>date</th>\n",
       "      <th>new_month</th>\n",
       "    </tr>\n",
       "  </thead>\n",
       "  <tbody>\n",
       "    <tr>\n",
       "      <th>0</th>\n",
       "      <td>1</td>\n",
       "      <td>4409.919140</td>\n",
       "      <td>25.599769</td>\n",
       "      <td>2021-01-01</td>\n",
       "      <td>1</td>\n",
       "    </tr>\n",
       "    <tr>\n",
       "      <th>1</th>\n",
       "      <td>1</td>\n",
       "      <td>2617.592153</td>\n",
       "      <td>15.816871</td>\n",
       "      <td>2021-01-18</td>\n",
       "      <td>1</td>\n",
       "    </tr>\n",
       "    <tr>\n",
       "      <th>2</th>\n",
       "      <td>1</td>\n",
       "      <td>754.159807</td>\n",
       "      <td>6.232113</td>\n",
       "      <td>2021-04-20</td>\n",
       "      <td>4</td>\n",
       "    </tr>\n",
       "    <tr>\n",
       "      <th>3</th>\n",
       "      <td>1</td>\n",
       "      <td>2694.783254</td>\n",
       "      <td>18.511000</td>\n",
       "      <td>2021-08-11</td>\n",
       "      <td>8</td>\n",
       "    </tr>\n",
       "    <tr>\n",
       "      <th>4</th>\n",
       "      <td>1</td>\n",
       "      <td>4028.687306</td>\n",
       "      <td>26.265803</td>\n",
       "      <td>2021-08-28</td>\n",
       "      <td>8</td>\n",
       "    </tr>\n",
       "  </tbody>\n",
       "</table>\n",
       "</div>"
      ],
      "text/plain": [
       "   user_id     distance   duration       date  new_month\n",
       "0        1  4409.919140  25.599769 2021-01-01          1\n",
       "1        1  2617.592153  15.816871 2021-01-18          1\n",
       "2        1   754.159807   6.232113 2021-04-20          4\n",
       "3        1  2694.783254  18.511000 2021-08-11          8\n",
       "4        1  4028.687306  26.265803 2021-08-28          8"
      ]
     },
     "execution_count": 12,
     "metadata": {},
     "output_type": "execute_result"
    }
   ],
   "source": [
    "#выведем первые 5 строк файла rides\n",
    "rides.head()"
   ]
  },
  {
   "cell_type": "markdown",
   "id": "a7391edc",
   "metadata": {},
   "source": [
    "<div class=\"alert alert-success\">\n",
    "<h2> Комментарий ревьюера v1 <a class=\"tocSkip\"> </h2>\n",
    "\n",
    "<b>Все супер!👍:</b>  Дата приведена к дате верно! Столбец с датой добавлен правильно"
   ]
  },
  {
   "cell_type": "code",
   "execution_count": 13,
   "id": "350b2f6d",
   "metadata": {},
   "outputs": [
    {
     "data": {
      "text/plain": [
       "user_id              0\n",
       "name                 0\n",
       "age                  0\n",
       "city                 0\n",
       "subscription_type    0\n",
       "dtype: int64"
      ]
     },
     "execution_count": 13,
     "metadata": {},
     "output_type": "execute_result"
    }
   ],
   "source": [
    "#проверим наличие пропусков в user\n",
    "user.isna().sum()"
   ]
  },
  {
   "cell_type": "code",
   "execution_count": 14,
   "id": "0590364e",
   "metadata": {},
   "outputs": [
    {
     "data": {
      "text/plain": [
       "user_id      0\n",
       "distance     0\n",
       "duration     0\n",
       "date         0\n",
       "new_month    0\n",
       "dtype: int64"
      ]
     },
     "execution_count": 14,
     "metadata": {},
     "output_type": "execute_result"
    }
   ],
   "source": [
    "#проверим наличие пропусков в rides\n",
    "rides.isna().sum()"
   ]
  },
  {
   "cell_type": "code",
   "execution_count": 15,
   "id": "d9f51c29",
   "metadata": {},
   "outputs": [
    {
     "data": {
      "text/plain": [
       "subscription_type    0\n",
       "minute_price         0\n",
       "start_ride_price     0\n",
       "subscription_fee     0\n",
       "dtype: int64"
      ]
     },
     "execution_count": 15,
     "metadata": {},
     "output_type": "execute_result"
    }
   ],
   "source": [
    "#проверим наличие пропусков в subscriptions\n",
    "subscriptions.isna().sum()"
   ]
  },
  {
   "cell_type": "markdown",
   "id": "bc197026",
   "metadata": {},
   "source": [
    "Вывод:Хорошая новость!Пропуски отсутствуют во всех 3 файлов"
   ]
  },
  {
   "cell_type": "markdown",
   "id": "cec91cf9",
   "metadata": {},
   "source": [
    "<div class=\"alert alert-success\">\n",
    "<h2> Комментарий ревьюера v1 <a class=\"tocSkip\"> </h2>\n",
    "\n",
    "<b>Все супер!👍:</b>  Отлично!"
   ]
  },
  {
   "cell_type": "code",
   "execution_count": 16,
   "id": "7e611599",
   "metadata": {},
   "outputs": [
    {
     "data": {
      "text/plain": [
       "31"
      ]
     },
     "execution_count": 16,
     "metadata": {},
     "output_type": "execute_result"
    }
   ],
   "source": [
    "# посмотрим наличие дубликатов в user\n",
    "user.duplicated().sum()"
   ]
  },
  {
   "cell_type": "code",
   "execution_count": 17,
   "id": "483a9e60",
   "metadata": {},
   "outputs": [
    {
     "data": {
      "text/plain": [
       "0"
      ]
     },
     "execution_count": 17,
     "metadata": {},
     "output_type": "execute_result"
    }
   ],
   "source": [
    "# посмотрим наличие дубликатов в rides\n",
    "rides.duplicated().sum()"
   ]
  },
  {
   "cell_type": "markdown",
   "id": "9a06c9d7",
   "metadata": {},
   "source": [
    "Дубликаты в rides отсутствуют "
   ]
  },
  {
   "cell_type": "code",
   "execution_count": 18,
   "id": "c2a585a2",
   "metadata": {},
   "outputs": [
    {
     "data": {
      "text/plain": [
       "0"
      ]
     },
     "execution_count": 18,
     "metadata": {},
     "output_type": "execute_result"
    }
   ],
   "source": [
    "# посмотрим наличие дубликатов в subscriptions\n",
    "subscriptions.duplicated().sum()"
   ]
  },
  {
   "cell_type": "markdown",
   "id": "74c88e63",
   "metadata": {},
   "source": [
    "Дубликаты в subscriptions отсутствуют "
   ]
  },
  {
   "cell_type": "code",
   "execution_count": 19,
   "id": "018a2cc9",
   "metadata": {},
   "outputs": [],
   "source": [
    "#удалим дубликаты в user и сбросим индексы\n",
    "user = user.drop_duplicates().reset_index(drop = True)"
   ]
  },
  {
   "cell_type": "markdown",
   "id": "7e09a793",
   "metadata": {},
   "source": [
    "<div class=\"alert alert-success\">\n",
    "<h2> Комментарий ревьюера v1 <a class=\"tocSkip\"> </h2>\n",
    "\n",
    "<b>Все супер!👍:</b>  Правильная работа с дублями"
   ]
  },
  {
   "cell_type": "markdown",
   "id": "09758552",
   "metadata": {},
   "source": [
    "Выводы:\n",
    "\n",
    "1.Пропуски в user,rides и subscriptions отсутствуют\n",
    "\n",
    "2.В user количество дубликатов 31 штука,их удалили\n",
    "\n",
    "3.Столбец date файла rides_go.csv приведен к типу даты pandas\n",
    "\n",
    "4.Добавили новый столбец new_month с номером месяца\n"
   ]
  },
  {
   "cell_type": "markdown",
   "id": "212593c7",
   "metadata": {},
   "source": [
    "#### Шаг 3. Исследовательский анализ данных"
   ]
  },
  {
   "cell_type": "markdown",
   "id": "9df32b6e",
   "metadata": {},
   "source": [
    "3.1.Частота встречаемости городов"
   ]
  },
  {
   "cell_type": "code",
   "execution_count": 20,
   "id": "5587637a",
   "metadata": {},
   "outputs": [
    {
     "data": {
      "text/plain": [
       "Пятигорск         219\n",
       "Екатеринбург      204\n",
       "Ростов-на-Дону    198\n",
       "Краснодар         193\n",
       "Сочи              189\n",
       "Омск              183\n",
       "Тюмень            180\n",
       "Москва            168\n",
       "Name: city, dtype: int64"
      ]
     },
     "execution_count": 20,
     "metadata": {},
     "output_type": "execute_result"
    }
   ],
   "source": [
    "#посмотрим на количество встречающихся городов\n",
    "user['city'].value_counts()"
   ]
  },
  {
   "cell_type": "code",
   "execution_count": 21,
   "id": "f62be259",
   "metadata": {
    "scrolled": true
   },
   "outputs": [
    {
     "data": {
      "image/png": "[encoded data removed]",
      "text/plain": [
       "<Figure size 720x360 with 1 Axes>"
      ]
     },
     "metadata": {
      "needs_background": "light"
     },
     "output_type": "display_data"
    }
   ],
   "source": [
    "(\n",
    "user.pivot_table(index='city', values='user_id', aggfunc='count').sort_values(by='user_id', ascending=True) \n",
    ".plot(kind='barh', grid=True, figsize=(10, 5))\n",
    ")\n",
    "plt.title('Частота встречаемости городов')\n",
    "plt.ylabel('Города')\n",
    "plt.xlabel('Количество пользователей')\n",
    "plt.show()"
   ]
  },
  {
   "cell_type": "markdown",
   "id": "7085211f",
   "metadata": {},
   "source": [
    "Вывод:Тройку лидеров по прокату возглавляют Пятигорск, Екатеринбург и Ростов-на-Дону.Аутсайдерами являются Москва и Тюмень.\n",
    "Можно предположить,что наибольшая частота в южных городах."
   ]
  },
  {
   "cell_type": "markdown",
   "id": "f61bc620",
   "metadata": {},
   "source": [
    "<div class=\"alert alert-success\">\n",
    "<h2> Комментарий ревьюера v1 <a class=\"tocSkip\"> </h2>\n",
    "\n",
    "<b>Все супер!👍:</b>  Есть, отличная работа! График построен верно, оси подписаны, значения по городам выведены. Молодец!"
   ]
  },
  {
   "cell_type": "markdown",
   "id": "6d1af22e",
   "metadata": {},
   "source": [
    "3.2.Соотношение пользователей с подпиской и без подписки"
   ]
  },
  {
   "cell_type": "code",
   "execution_count": 22,
   "id": "be54427d",
   "metadata": {},
   "outputs": [
    {
     "data": {
      "image/png": "[encoded data removed]",
      "text/plain": [
       "<Figure size 432x432 with 1 Axes>"
      ]
     },
     "metadata": {},
     "output_type": "display_data"
    }
   ],
   "source": [
    "#построим сводную таблицу и на основе нее круговую диаграмму\n",
    "(\n",
    "user.pivot_table(index = 'subscription_type',values = 'user_id',aggfunc = 'count' )\n",
    ".plot(y= 'user_id',kind = 'pie',figsize = (6,6),colors = ['red','blue'],explode = [0,0.3],autopct='%1.1f%%')\n",
    ")\n",
    "explode = [0.3,0]\n",
    "plt.title('Соотношение пользователей с подпиской и без подписки')\n",
    "plt.show();\n"
   ]
  },
  {
   "cell_type": "markdown",
   "id": "63e2304e",
   "metadata": {},
   "source": [
    "Вывод:Количество пользователей с подпиской составляет 45,6 %, без подписки 54,4 %"
   ]
  },
  {
   "cell_type": "markdown",
   "id": "7f1a6635",
   "metadata": {},
   "source": [
    "<div class=\"alert alert-success\">\n",
    "<h2> Комментарий ревьюера v1 <a class=\"tocSkip\"> </h2>\n",
    "\n",
    "<b>Все супер!👍:</b>  Верно!"
   ]
  },
  {
   "cell_type": "markdown",
   "id": "17dc7800",
   "metadata": {},
   "source": [
    "3.3.Возраст пользователей"
   ]
  },
  {
   "cell_type": "code",
   "execution_count": 23,
   "id": "d3370dda",
   "metadata": {},
   "outputs": [
    {
     "data": {
      "text/plain": [
       "count    1534.000000\n",
       "mean       24.903520\n",
       "std         4.572367\n",
       "min        12.000000\n",
       "25%        22.000000\n",
       "50%        25.000000\n",
       "75%        28.000000\n",
       "max        43.000000\n",
       "Name: age, dtype: float64"
      ]
     },
     "execution_count": 23,
     "metadata": {},
     "output_type": "execute_result"
    }
   ],
   "source": [
    "#посмотрим возраст пользователей\n",
    "user['age'].describe()"
   ]
  },
  {
   "cell_type": "markdown",
   "id": "f4bba912",
   "metadata": {},
   "source": [
    "Вывод:Минимальный возраст пользователя 12 лет, максимальный 43 года.Аномальных значений нет"
   ]
  },
  {
   "cell_type": "code",
   "execution_count": 24,
   "id": "fa3a21f4",
   "metadata": {},
   "outputs": [
    {
     "data": {
      "image/png": "[encoded data removed]",
      "text/plain": [
       "<Figure size 720x360 with 1 Axes>"
      ]
     },
     "metadata": {
      "needs_background": "light"
     },
     "output_type": "display_data"
    }
   ],
   "source": [
    "(\n",
    "user.pivot_table(index = 'age', values = 'user_id',aggfunc = 'count')\n",
    ".plot(y = 'user_id', kind = 'bar',figsize = (10,5),grid = True)\n",
    ")\n",
    "plt.ylabel('Количество пользователей')\n",
    "plt.xlabel('Возраст')\n",
    "plt.title('Количество пользователей по возрастам');"
   ]
  },
  {
   "cell_type": "markdown",
   "id": "eaf04ea2",
   "metadata": {},
   "source": [
    "Вывод:Наибольшее количество пользователей находится в диапазоне 22-27 лет"
   ]
  },
  {
   "cell_type": "markdown",
   "id": "2973e74a",
   "metadata": {},
   "source": [
    "Общий вывод:\n",
    "Аномальных значений в возрасте пользователей нет,наибольшее количество пользователей находится в диапазоне\n",
    "22-27 лет"
   ]
  },
  {
   "cell_type": "markdown",
   "id": "3a642d3e",
   "metadata": {},
   "source": [
    "<div class=\"alert alert-block alert-danger\">\n",
    "<h2> Комментарий ревьюера v1<a class=\"tocSkip\"></h2>\n",
    "\n",
    "<b>На доработку🤔:</b>  График нужно доофрмить - обе оси должны быть подписаны, причем на одном языке с заголовком"
   ]
  },
  {
   "cell_type": "markdown",
   "id": "db9313e5",
   "metadata": {},
   "source": [
    "<div class=\"alert alert-info\">\n",
    "<b>Гистограмма доработана;)</b> \n",
    "</div>"
   ]
  },
  {
   "cell_type": "markdown",
   "id": "3e1c5465",
   "metadata": {},
   "source": [
    "<div class=\"alert alert-success\">\n",
    "<h2> Комментарий ревьюера v2 <a class=\"tocSkip\"> </h2>\n",
    "\n",
    "<b>Все супер!👍:</b> Вижу, верно!"
   ]
  },
  {
   "cell_type": "markdown",
   "id": "6fbaa491",
   "metadata": {},
   "source": [
    "3.4.Расстояние, которое пользователь преодолел за 1 поездку"
   ]
  },
  {
   "cell_type": "code",
   "execution_count": 25,
   "id": "abb16a6e",
   "metadata": {},
   "outputs": [
    {
     "data": {
      "text/plain": [
       "count    18068.000000\n",
       "mean      3070.659976\n",
       "std       1116.831209\n",
       "min          0.855683\n",
       "25%       2543.226360\n",
       "50%       3133.609994\n",
       "75%       3776.222735\n",
       "max       7211.007745\n",
       "Name: distance, dtype: float64"
      ]
     },
     "execution_count": 25,
     "metadata": {},
     "output_type": "execute_result"
    }
   ],
   "source": [
    "#посмотрим общие данные о расстоянии\n",
    "rides['distance'].describe()"
   ]
  },
  {
   "cell_type": "markdown",
   "id": "f230372a",
   "metadata": {},
   "source": [
    "Вывод:среднее совпадает с медианой, значит выбросов нет"
   ]
  },
  {
   "cell_type": "code",
   "execution_count": 26,
   "id": "99b4a9e0",
   "metadata": {},
   "outputs": [
    {
     "data": {
      "image/png": "[encoded data removed]",
      "text/plain": [
       "<Figure size 432x288 with 1 Axes>"
      ]
     },
     "metadata": {
      "needs_background": "light"
     },
     "output_type": "display_data"
    }
   ],
   "source": [
    "#посторим гистограмму\n",
    "rides['distance'].hist(bins = 30)\n",
    "plt.xlabel('Расстояние')\n",
    "plt.ylabel('Количество поездок')\n",
    "plt.title('Количество поездок в зависимости от расстояния');"
   ]
  },
  {
   "cell_type": "markdown",
   "id": "346d9bb6",
   "metadata": {},
   "source": [
    "Вывод:По гистограмме можно сделать вывод, что наиболее частое расстояние, которое проехал пользователь составляет 2700-3500 метров.Также можно заметить пик на 600 метров."
   ]
  },
  {
   "cell_type": "markdown",
   "id": "73471aab",
   "metadata": {},
   "source": [
    "<div class=\"alert alert-block alert-danger\">\n",
    "<h2> Комментарий ревьюера v1<a class=\"tocSkip\"></h2>\n",
    "\n",
    "<b>На доработку🤔:</b>  Вновь нужно доофрмить график"
   ]
  },
  {
   "cell_type": "markdown",
   "id": "d4711889",
   "metadata": {},
   "source": [
    "<div class=\"alert alert-info\">\n",
    "<b>Гистограмма доработана;)</b> \n",
    "</div>"
   ]
  },
  {
   "cell_type": "markdown",
   "id": "fdb389c3",
   "metadata": {},
   "source": [
    "<div class=\"alert alert-success\">\n",
    "<h2> Комментарий ревьюера v2 <a class=\"tocSkip\"> </h2>\n",
    "\n",
    "<b>Все супер!👍:</b> Топ!"
   ]
  },
  {
   "cell_type": "markdown",
   "id": "ffd5daf3",
   "metadata": {},
   "source": [
    "3.5.Продолжительность поездок"
   ]
  },
  {
   "cell_type": "code",
   "execution_count": 27,
   "id": "7d623768",
   "metadata": {},
   "outputs": [
    {
     "data": {
      "text/plain": [
       "count    18068.000000\n",
       "mean        17.805011\n",
       "std          6.091051\n",
       "min          0.500000\n",
       "25%         13.597563\n",
       "50%         17.678395\n",
       "75%         21.724800\n",
       "max         40.823963\n",
       "Name: duration, dtype: float64"
      ]
     },
     "execution_count": 27,
     "metadata": {},
     "output_type": "execute_result"
    }
   ],
   "source": [
    "#посмотрим общие данные о продолжительности поездок\n",
    "rides['duration'].describe()"
   ]
  },
  {
   "cell_type": "markdown",
   "id": "e9fa0bb5",
   "metadata": {},
   "source": [
    "Вывод:Среднее значение приблизительно равно медиане, можно говорить об отсутствии выбросов"
   ]
  },
  {
   "cell_type": "code",
   "execution_count": 28,
   "id": "3f45d762",
   "metadata": {
    "scrolled": true
   },
   "outputs": [
    {
     "data": {
      "image/png": "[encoded data removed]",
      "text/plain": [
       "<Figure size 432x288 with 1 Axes>"
      ]
     },
     "metadata": {
      "needs_background": "light"
     },
     "output_type": "display_data"
    }
   ],
   "source": [
    "#посторим гистограмму\n",
    "rides['duration'].hist(bins = 30)\n",
    "plt.xlabel('Продолжительность')\n",
    "plt.ylabel('Количество поездок')\n",
    "plt.title('Количество поездок в зависимости от продолжительности');"
   ]
  },
  {
   "cell_type": "markdown",
   "id": "de853345",
   "metadata": {},
   "source": [
    "Вывод:По гистограмме можно сделать вывод, что наиболее частое время использование самокатов от 13 до 22 минут"
   ]
  },
  {
   "cell_type": "markdown",
   "id": "b5f61290",
   "metadata": {},
   "source": [
    "<div class=\"alert alert-block alert-danger\">\n",
    "<h2> Комментарий ревьюера v1<a class=\"tocSkip\"></h2>\n",
    "\n",
    "<b>На доработку🤔:</b>  Здесь та же проблемаа"
   ]
  },
  {
   "cell_type": "markdown",
   "id": "3bf7f42d",
   "metadata": {},
   "source": [
    "<div class=\"alert alert-info\">\n",
    "<b>Гистограмма доработана;)</b> \n",
    "</div>"
   ]
  },
  {
   "cell_type": "markdown",
   "id": "163631cd",
   "metadata": {},
   "source": [
    "<div class=\"alert alert-success\">\n",
    "<h2> Комментарий ревьюера v2 <a class=\"tocSkip\"> </h2>\n",
    "\n",
    "<b>Все супер!👍:</b> Точно!"
   ]
  },
  {
   "cell_type": "markdown",
   "id": "3a0602a1",
   "metadata": {},
   "source": [
    "Общий вывод по исследовательскому анализу данных:\n",
    "\n",
    "1.Тройку лидеров по прокату возглавляют Пятигорск, Екатеринбург и Ростов-на-Дону.Аутсайдерами являются Москва и Тюмень.\n",
    "Можно предположить,что наибольшая частота в южных городах.\n",
    "\n",
    "2.Количество пользователей с подпиской составляет 45,6 %, без подписки 54,4 %\n",
    "\n",
    "3.Наибольшее количество пользователей находится в диапазоне 22-27 лет\n",
    "\n",
    "4.Наиболее частое расстояние, которое проехал пользователь составляет 2700-3500 метров\n",
    "\n",
    "5.Частое время использование самокатов от 13 до 22 минут"
   ]
  },
  {
   "cell_type": "markdown",
   "id": "4ef51331",
   "metadata": {},
   "source": [
    "#### Шаг 4. Объединение данных"
   ]
  },
  {
   "cell_type": "markdown",
   "id": "bea972c7",
   "metadata": {},
   "source": [
    "4.1.Объединение таблиц user, rides и subscriptions "
   ]
  },
  {
   "cell_type": "code",
   "execution_count": 29,
   "id": "6bf288b5",
   "metadata": {},
   "outputs": [],
   "source": [
    "#объединим таблицу user с rides по столбцу user_id\n",
    "data = user.merge(rides, on = 'user_id')"
   ]
  },
  {
   "cell_type": "code",
   "execution_count": 30,
   "id": "ba3e310c",
   "metadata": {},
   "outputs": [
    {
     "data": {
      "text/html": [
       "<div>\n",
       "<style scoped>\n",
       "    .dataframe tbody tr th:only-of-type {\n",
       "        vertical-align: middle;\n",
       "    }\n",
       "\n",
       "    .dataframe tbody tr th {\n",
       "        vertical-align: top;\n",
       "    }\n",
       "\n",
       "    .dataframe thead th {\n",
       "        text-align: right;\n",
       "    }\n",
       "</style>\n",
       "<table border=\"1\" class=\"dataframe\">\n",
       "  <thead>\n",
       "    <tr style=\"text-align: right;\">\n",
       "      <th></th>\n",
       "      <th>user_id</th>\n",
       "      <th>name</th>\n",
       "      <th>age</th>\n",
       "      <th>city</th>\n",
       "      <th>subscription_type</th>\n",
       "      <th>distance</th>\n",
       "      <th>duration</th>\n",
       "      <th>date</th>\n",
       "      <th>new_month</th>\n",
       "    </tr>\n",
       "  </thead>\n",
       "  <tbody>\n",
       "    <tr>\n",
       "      <th>0</th>\n",
       "      <td>1</td>\n",
       "      <td>Кира</td>\n",
       "      <td>22</td>\n",
       "      <td>Тюмень</td>\n",
       "      <td>ultra</td>\n",
       "      <td>4409.919140</td>\n",
       "      <td>25.599769</td>\n",
       "      <td>2021-01-01</td>\n",
       "      <td>1</td>\n",
       "    </tr>\n",
       "    <tr>\n",
       "      <th>1</th>\n",
       "      <td>1</td>\n",
       "      <td>Кира</td>\n",
       "      <td>22</td>\n",
       "      <td>Тюмень</td>\n",
       "      <td>ultra</td>\n",
       "      <td>2617.592153</td>\n",
       "      <td>15.816871</td>\n",
       "      <td>2021-01-18</td>\n",
       "      <td>1</td>\n",
       "    </tr>\n",
       "    <tr>\n",
       "      <th>2</th>\n",
       "      <td>1</td>\n",
       "      <td>Кира</td>\n",
       "      <td>22</td>\n",
       "      <td>Тюмень</td>\n",
       "      <td>ultra</td>\n",
       "      <td>754.159807</td>\n",
       "      <td>6.232113</td>\n",
       "      <td>2021-04-20</td>\n",
       "      <td>4</td>\n",
       "    </tr>\n",
       "    <tr>\n",
       "      <th>3</th>\n",
       "      <td>1</td>\n",
       "      <td>Кира</td>\n",
       "      <td>22</td>\n",
       "      <td>Тюмень</td>\n",
       "      <td>ultra</td>\n",
       "      <td>2694.783254</td>\n",
       "      <td>18.511000</td>\n",
       "      <td>2021-08-11</td>\n",
       "      <td>8</td>\n",
       "    </tr>\n",
       "    <tr>\n",
       "      <th>4</th>\n",
       "      <td>1</td>\n",
       "      <td>Кира</td>\n",
       "      <td>22</td>\n",
       "      <td>Тюмень</td>\n",
       "      <td>ultra</td>\n",
       "      <td>4028.687306</td>\n",
       "      <td>26.265803</td>\n",
       "      <td>2021-08-28</td>\n",
       "      <td>8</td>\n",
       "    </tr>\n",
       "  </tbody>\n",
       "</table>\n",
       "</div>"
      ],
      "text/plain": [
       "   user_id  name  age    city subscription_type     distance   duration  \\\n",
       "0        1  Кира   22  Тюмень             ultra  4409.919140  25.599769   \n",
       "1        1  Кира   22  Тюмень             ultra  2617.592153  15.816871   \n",
       "2        1  Кира   22  Тюмень             ultra   754.159807   6.232113   \n",
       "3        1  Кира   22  Тюмень             ultra  2694.783254  18.511000   \n",
       "4        1  Кира   22  Тюмень             ultra  4028.687306  26.265803   \n",
       "\n",
       "        date  new_month  \n",
       "0 2021-01-01          1  \n",
       "1 2021-01-18          1  \n",
       "2 2021-04-20          4  \n",
       "3 2021-08-11          8  \n",
       "4 2021-08-28          8  "
      ]
     },
     "execution_count": 30,
     "metadata": {},
     "output_type": "execute_result"
    }
   ],
   "source": [
    "#выведем первые 5 строчек data\n",
    "data.head()"
   ]
  },
  {
   "cell_type": "code",
   "execution_count": 31,
   "id": "cc5a6ccc",
   "metadata": {},
   "outputs": [],
   "source": [
    "#объединим получившуюся таблицу data  с subscriptions по столбцу subscription_type\n",
    "data_general = data.merge(subscriptions, on = 'subscription_type' )"
   ]
  },
  {
   "cell_type": "code",
   "execution_count": 32,
   "id": "e03079cc",
   "metadata": {},
   "outputs": [
    {
     "name": "stdout",
     "output_type": "stream",
     "text": [
      "<class 'pandas.core.frame.DataFrame'>\n",
      "Int64Index: 18068 entries, 0 to 18067\n",
      "Data columns (total 12 columns):\n",
      " #   Column             Non-Null Count  Dtype         \n",
      "---  ------             --------------  -----         \n",
      " 0   user_id            18068 non-null  int64         \n",
      " 1   name               18068 non-null  object        \n",
      " 2   age                18068 non-null  int64         \n",
      " 3   city               18068 non-null  object        \n",
      " 4   subscription_type  18068 non-null  object        \n",
      " 5   distance           18068 non-null  float64       \n",
      " 6   duration           18068 non-null  float64       \n",
      " 7   date               18068 non-null  datetime64[ns]\n",
      " 8   new_month          18068 non-null  int64         \n",
      " 9   minute_price       18068 non-null  int64         \n",
      " 10  start_ride_price   18068 non-null  int64         \n",
      " 11  subscription_fee   18068 non-null  int64         \n",
      "dtypes: datetime64[ns](1), float64(2), int64(6), object(3)\n",
      "memory usage: 1.8+ MB\n"
     ]
    }
   ],
   "source": [
    "data_general.info()"
   ]
  },
  {
   "cell_type": "code",
   "execution_count": 33,
   "id": "c3fb660b",
   "metadata": {},
   "outputs": [
    {
     "data": {
      "text/html": [
       "<div>\n",
       "<style scoped>\n",
       "    .dataframe tbody tr th:only-of-type {\n",
       "        vertical-align: middle;\n",
       "    }\n",
       "\n",
       "    .dataframe tbody tr th {\n",
       "        vertical-align: top;\n",
       "    }\n",
       "\n",
       "    .dataframe thead th {\n",
       "        text-align: right;\n",
       "    }\n",
       "</style>\n",
       "<table border=\"1\" class=\"dataframe\">\n",
       "  <thead>\n",
       "    <tr style=\"text-align: right;\">\n",
       "      <th></th>\n",
       "      <th>user_id</th>\n",
       "      <th>name</th>\n",
       "      <th>age</th>\n",
       "      <th>city</th>\n",
       "      <th>subscription_type</th>\n",
       "      <th>distance</th>\n",
       "      <th>duration</th>\n",
       "      <th>date</th>\n",
       "      <th>new_month</th>\n",
       "      <th>minute_price</th>\n",
       "      <th>start_ride_price</th>\n",
       "      <th>subscription_fee</th>\n",
       "    </tr>\n",
       "  </thead>\n",
       "  <tbody>\n",
       "    <tr>\n",
       "      <th>0</th>\n",
       "      <td>1</td>\n",
       "      <td>Кира</td>\n",
       "      <td>22</td>\n",
       "      <td>Тюмень</td>\n",
       "      <td>ultra</td>\n",
       "      <td>4409.919140</td>\n",
       "      <td>25.599769</td>\n",
       "      <td>2021-01-01</td>\n",
       "      <td>1</td>\n",
       "      <td>6</td>\n",
       "      <td>0</td>\n",
       "      <td>199</td>\n",
       "    </tr>\n",
       "    <tr>\n",
       "      <th>1</th>\n",
       "      <td>1</td>\n",
       "      <td>Кира</td>\n",
       "      <td>22</td>\n",
       "      <td>Тюмень</td>\n",
       "      <td>ultra</td>\n",
       "      <td>2617.592153</td>\n",
       "      <td>15.816871</td>\n",
       "      <td>2021-01-18</td>\n",
       "      <td>1</td>\n",
       "      <td>6</td>\n",
       "      <td>0</td>\n",
       "      <td>199</td>\n",
       "    </tr>\n",
       "    <tr>\n",
       "      <th>2</th>\n",
       "      <td>1</td>\n",
       "      <td>Кира</td>\n",
       "      <td>22</td>\n",
       "      <td>Тюмень</td>\n",
       "      <td>ultra</td>\n",
       "      <td>754.159807</td>\n",
       "      <td>6.232113</td>\n",
       "      <td>2021-04-20</td>\n",
       "      <td>4</td>\n",
       "      <td>6</td>\n",
       "      <td>0</td>\n",
       "      <td>199</td>\n",
       "    </tr>\n",
       "    <tr>\n",
       "      <th>3</th>\n",
       "      <td>1</td>\n",
       "      <td>Кира</td>\n",
       "      <td>22</td>\n",
       "      <td>Тюмень</td>\n",
       "      <td>ultra</td>\n",
       "      <td>2694.783254</td>\n",
       "      <td>18.511000</td>\n",
       "      <td>2021-08-11</td>\n",
       "      <td>8</td>\n",
       "      <td>6</td>\n",
       "      <td>0</td>\n",
       "      <td>199</td>\n",
       "    </tr>\n",
       "    <tr>\n",
       "      <th>4</th>\n",
       "      <td>1</td>\n",
       "      <td>Кира</td>\n",
       "      <td>22</td>\n",
       "      <td>Тюмень</td>\n",
       "      <td>ultra</td>\n",
       "      <td>4028.687306</td>\n",
       "      <td>26.265803</td>\n",
       "      <td>2021-08-28</td>\n",
       "      <td>8</td>\n",
       "      <td>6</td>\n",
       "      <td>0</td>\n",
       "      <td>199</td>\n",
       "    </tr>\n",
       "  </tbody>\n",
       "</table>\n",
       "</div>"
      ],
      "text/plain": [
       "   user_id  name  age    city subscription_type     distance   duration  \\\n",
       "0        1  Кира   22  Тюмень             ultra  4409.919140  25.599769   \n",
       "1        1  Кира   22  Тюмень             ultra  2617.592153  15.816871   \n",
       "2        1  Кира   22  Тюмень             ultra   754.159807   6.232113   \n",
       "3        1  Кира   22  Тюмень             ultra  2694.783254  18.511000   \n",
       "4        1  Кира   22  Тюмень             ultra  4028.687306  26.265803   \n",
       "\n",
       "        date  new_month  minute_price  start_ride_price  subscription_fee  \n",
       "0 2021-01-01          1             6                 0               199  \n",
       "1 2021-01-18          1             6                 0               199  \n",
       "2 2021-04-20          4             6                 0               199  \n",
       "3 2021-08-11          8             6                 0               199  \n",
       "4 2021-08-28          8             6                 0               199  "
      ]
     },
     "execution_count": 33,
     "metadata": {},
     "output_type": "execute_result"
    }
   ],
   "source": [
    "#выведем первые 5 строчек data_general\n",
    "data_general.head()"
   ]
  },
  {
   "cell_type": "markdown",
   "id": "df6eba14",
   "metadata": {},
   "source": [
    "<div class=\"alert alert-block alert-danger\">\n",
    "<h2> Комментарий ревьюера v1<a class=\"tocSkip\"></h2>\n",
    "\n",
    "<b>На доработку🤔:</b>  Нужно проверить, насколько правильно проведено объединено "
   ]
  },
  {
   "cell_type": "markdown",
   "id": "ed87cd0a",
   "metadata": {},
   "source": [
    "<div class=\"alert alert-info\">\n",
    "<b>Наибольшее количество строк из объединяемых датафреймов составляет 18068 строк.Итоговый датафрем содержит такое же количество записей.Количество столбцов равно 12, тоже верно(всего 14 столбцов, но по 2 из них происходило объединение).Подводя итог, можно сказать, что объединение датафреймов выполнено верно</b> \n",
    "</div>"
   ]
  },
  {
   "cell_type": "markdown",
   "id": "c4b812d3",
   "metadata": {},
   "source": [
    "<div class=\"alert alert-success\">\n",
    "<h2> Комментарий ревьюера v2 <a class=\"tocSkip\"> </h2>\n",
    "\n",
    "<b>Все супер!👍:</b> Да, отлично!"
   ]
  },
  {
   "cell_type": "markdown",
   "id": "5cee6fe9",
   "metadata": {},
   "source": [
    "4.2.1.Создадим датафрейм с данными о пользователях без подписки"
   ]
  },
  {
   "cell_type": "code",
   "execution_count": 34,
   "id": "a7bc8c00",
   "metadata": {},
   "outputs": [],
   "source": [
    "data_general_free = data_general[data_general['subscription_type'] == 'free']"
   ]
  },
  {
   "cell_type": "code",
   "execution_count": null,
   "id": "7fc67ce3",
   "metadata": {},
   "outputs": [],
   "source": []
  },
  {
   "cell_type": "code",
   "execution_count": 35,
   "id": "f8bfd7de",
   "metadata": {},
   "outputs": [
    {
     "data": {
      "text/html": [
       "<div>\n",
       "<style scoped>\n",
       "    .dataframe tbody tr th:only-of-type {\n",
       "        vertical-align: middle;\n",
       "    }\n",
       "\n",
       "    .dataframe tbody tr th {\n",
       "        vertical-align: top;\n",
       "    }\n",
       "\n",
       "    .dataframe thead th {\n",
       "        text-align: right;\n",
       "    }\n",
       "</style>\n",
       "<table border=\"1\" class=\"dataframe\">\n",
       "  <thead>\n",
       "    <tr style=\"text-align: right;\">\n",
       "      <th></th>\n",
       "      <th>user_id</th>\n",
       "      <th>name</th>\n",
       "      <th>age</th>\n",
       "      <th>city</th>\n",
       "      <th>subscription_type</th>\n",
       "      <th>distance</th>\n",
       "      <th>duration</th>\n",
       "      <th>date</th>\n",
       "      <th>new_month</th>\n",
       "      <th>minute_price</th>\n",
       "      <th>start_ride_price</th>\n",
       "      <th>subscription_fee</th>\n",
       "    </tr>\n",
       "  </thead>\n",
       "  <tbody>\n",
       "    <tr>\n",
       "      <th>6500</th>\n",
       "      <td>700</td>\n",
       "      <td>Айдар</td>\n",
       "      <td>22</td>\n",
       "      <td>Омск</td>\n",
       "      <td>free</td>\n",
       "      <td>2515.690719</td>\n",
       "      <td>14.944286</td>\n",
       "      <td>2021-01-02</td>\n",
       "      <td>1</td>\n",
       "      <td>8</td>\n",
       "      <td>50</td>\n",
       "      <td>0</td>\n",
       "    </tr>\n",
       "    <tr>\n",
       "      <th>6501</th>\n",
       "      <td>700</td>\n",
       "      <td>Айдар</td>\n",
       "      <td>22</td>\n",
       "      <td>Омск</td>\n",
       "      <td>free</td>\n",
       "      <td>846.932642</td>\n",
       "      <td>16.234663</td>\n",
       "      <td>2021-02-01</td>\n",
       "      <td>2</td>\n",
       "      <td>8</td>\n",
       "      <td>50</td>\n",
       "      <td>0</td>\n",
       "    </tr>\n",
       "    <tr>\n",
       "      <th>6502</th>\n",
       "      <td>700</td>\n",
       "      <td>Айдар</td>\n",
       "      <td>22</td>\n",
       "      <td>Омск</td>\n",
       "      <td>free</td>\n",
       "      <td>4004.434142</td>\n",
       "      <td>20.016628</td>\n",
       "      <td>2021-02-04</td>\n",
       "      <td>2</td>\n",
       "      <td>8</td>\n",
       "      <td>50</td>\n",
       "      <td>0</td>\n",
       "    </tr>\n",
       "    <tr>\n",
       "      <th>6503</th>\n",
       "      <td>700</td>\n",
       "      <td>Айдар</td>\n",
       "      <td>22</td>\n",
       "      <td>Омск</td>\n",
       "      <td>free</td>\n",
       "      <td>1205.911290</td>\n",
       "      <td>9.782872</td>\n",
       "      <td>2021-02-10</td>\n",
       "      <td>2</td>\n",
       "      <td>8</td>\n",
       "      <td>50</td>\n",
       "      <td>0</td>\n",
       "    </tr>\n",
       "    <tr>\n",
       "      <th>6504</th>\n",
       "      <td>700</td>\n",
       "      <td>Айдар</td>\n",
       "      <td>22</td>\n",
       "      <td>Омск</td>\n",
       "      <td>free</td>\n",
       "      <td>3047.379435</td>\n",
       "      <td>17.427673</td>\n",
       "      <td>2021-02-14</td>\n",
       "      <td>2</td>\n",
       "      <td>8</td>\n",
       "      <td>50</td>\n",
       "      <td>0</td>\n",
       "    </tr>\n",
       "  </tbody>\n",
       "</table>\n",
       "</div>"
      ],
      "text/plain": [
       "      user_id   name  age  city subscription_type     distance   duration  \\\n",
       "6500      700  Айдар   22  Омск              free  2515.690719  14.944286   \n",
       "6501      700  Айдар   22  Омск              free   846.932642  16.234663   \n",
       "6502      700  Айдар   22  Омск              free  4004.434142  20.016628   \n",
       "6503      700  Айдар   22  Омск              free  1205.911290   9.782872   \n",
       "6504      700  Айдар   22  Омск              free  3047.379435  17.427673   \n",
       "\n",
       "           date  new_month  minute_price  start_ride_price  subscription_fee  \n",
       "6500 2021-01-02          1             8                50                 0  \n",
       "6501 2021-02-01          2             8                50                 0  \n",
       "6502 2021-02-04          2             8                50                 0  \n",
       "6503 2021-02-10          2             8                50                 0  \n",
       "6504 2021-02-14          2             8                50                 0  "
      ]
     },
     "execution_count": 35,
     "metadata": {},
     "output_type": "execute_result"
    }
   ],
   "source": [
    "data_general_free.head()"
   ]
  },
  {
   "cell_type": "markdown",
   "id": "9ccb4198",
   "metadata": {},
   "source": [
    "4.2.2.Создадим датафрейм с данными о пользователях c подпиской"
   ]
  },
  {
   "cell_type": "code",
   "execution_count": 36,
   "id": "840d42bd",
   "metadata": {},
   "outputs": [],
   "source": [
    "data_general_ultra = data_general[data_general['subscription_type'] == 'ultra']"
   ]
  },
  {
   "cell_type": "code",
   "execution_count": 37,
   "id": "8ca8b3c6",
   "metadata": {},
   "outputs": [
    {
     "data": {
      "text/html": [
       "<div>\n",
       "<style scoped>\n",
       "    .dataframe tbody tr th:only-of-type {\n",
       "        vertical-align: middle;\n",
       "    }\n",
       "\n",
       "    .dataframe tbody tr th {\n",
       "        vertical-align: top;\n",
       "    }\n",
       "\n",
       "    .dataframe thead th {\n",
       "        text-align: right;\n",
       "    }\n",
       "</style>\n",
       "<table border=\"1\" class=\"dataframe\">\n",
       "  <thead>\n",
       "    <tr style=\"text-align: right;\">\n",
       "      <th></th>\n",
       "      <th>user_id</th>\n",
       "      <th>name</th>\n",
       "      <th>age</th>\n",
       "      <th>city</th>\n",
       "      <th>subscription_type</th>\n",
       "      <th>distance</th>\n",
       "      <th>duration</th>\n",
       "      <th>date</th>\n",
       "      <th>new_month</th>\n",
       "      <th>minute_price</th>\n",
       "      <th>start_ride_price</th>\n",
       "      <th>subscription_fee</th>\n",
       "    </tr>\n",
       "  </thead>\n",
       "  <tbody>\n",
       "    <tr>\n",
       "      <th>0</th>\n",
       "      <td>1</td>\n",
       "      <td>Кира</td>\n",
       "      <td>22</td>\n",
       "      <td>Тюмень</td>\n",
       "      <td>ultra</td>\n",
       "      <td>4409.919140</td>\n",
       "      <td>25.599769</td>\n",
       "      <td>2021-01-01</td>\n",
       "      <td>1</td>\n",
       "      <td>6</td>\n",
       "      <td>0</td>\n",
       "      <td>199</td>\n",
       "    </tr>\n",
       "    <tr>\n",
       "      <th>1</th>\n",
       "      <td>1</td>\n",
       "      <td>Кира</td>\n",
       "      <td>22</td>\n",
       "      <td>Тюмень</td>\n",
       "      <td>ultra</td>\n",
       "      <td>2617.592153</td>\n",
       "      <td>15.816871</td>\n",
       "      <td>2021-01-18</td>\n",
       "      <td>1</td>\n",
       "      <td>6</td>\n",
       "      <td>0</td>\n",
       "      <td>199</td>\n",
       "    </tr>\n",
       "    <tr>\n",
       "      <th>2</th>\n",
       "      <td>1</td>\n",
       "      <td>Кира</td>\n",
       "      <td>22</td>\n",
       "      <td>Тюмень</td>\n",
       "      <td>ultra</td>\n",
       "      <td>754.159807</td>\n",
       "      <td>6.232113</td>\n",
       "      <td>2021-04-20</td>\n",
       "      <td>4</td>\n",
       "      <td>6</td>\n",
       "      <td>0</td>\n",
       "      <td>199</td>\n",
       "    </tr>\n",
       "    <tr>\n",
       "      <th>3</th>\n",
       "      <td>1</td>\n",
       "      <td>Кира</td>\n",
       "      <td>22</td>\n",
       "      <td>Тюмень</td>\n",
       "      <td>ultra</td>\n",
       "      <td>2694.783254</td>\n",
       "      <td>18.511000</td>\n",
       "      <td>2021-08-11</td>\n",
       "      <td>8</td>\n",
       "      <td>6</td>\n",
       "      <td>0</td>\n",
       "      <td>199</td>\n",
       "    </tr>\n",
       "    <tr>\n",
       "      <th>4</th>\n",
       "      <td>1</td>\n",
       "      <td>Кира</td>\n",
       "      <td>22</td>\n",
       "      <td>Тюмень</td>\n",
       "      <td>ultra</td>\n",
       "      <td>4028.687306</td>\n",
       "      <td>26.265803</td>\n",
       "      <td>2021-08-28</td>\n",
       "      <td>8</td>\n",
       "      <td>6</td>\n",
       "      <td>0</td>\n",
       "      <td>199</td>\n",
       "    </tr>\n",
       "  </tbody>\n",
       "</table>\n",
       "</div>"
      ],
      "text/plain": [
       "   user_id  name  age    city subscription_type     distance   duration  \\\n",
       "0        1  Кира   22  Тюмень             ultra  4409.919140  25.599769   \n",
       "1        1  Кира   22  Тюмень             ultra  2617.592153  15.816871   \n",
       "2        1  Кира   22  Тюмень             ultra   754.159807   6.232113   \n",
       "3        1  Кира   22  Тюмень             ultra  2694.783254  18.511000   \n",
       "4        1  Кира   22  Тюмень             ultra  4028.687306  26.265803   \n",
       "\n",
       "        date  new_month  minute_price  start_ride_price  subscription_fee  \n",
       "0 2021-01-01          1             6                 0               199  \n",
       "1 2021-01-18          1             6                 0               199  \n",
       "2 2021-04-20          4             6                 0               199  \n",
       "3 2021-08-11          8             6                 0               199  \n",
       "4 2021-08-28          8             6                 0               199  "
      ]
     },
     "execution_count": 37,
     "metadata": {},
     "output_type": "execute_result"
    }
   ],
   "source": [
    "data_general_ultra.head()"
   ]
  },
  {
   "cell_type": "markdown",
   "id": "9b405e79",
   "metadata": {},
   "source": []
  },
  {
   "cell_type": "markdown",
   "id": "1207412d",
   "metadata": {},
   "source": [
    "<div class=\"alert alert-success\">\n",
    "<h2> Комментарий ревьюера v1 <a class=\"tocSkip\"> </h2>\n",
    "\n",
    "<b>Все супер!👍:</b> Датафреймы со0даны верно!"
   ]
  },
  {
   "cell_type": "markdown",
   "id": "614ae2d4",
   "metadata": {},
   "source": [
    "4.3.Визиализируем информацию о расстоянии и времени поездок для пользователей обеих категорий"
   ]
  },
  {
   "cell_type": "markdown",
   "id": "4c4a3659",
   "metadata": {},
   "source": [
    "4.3.1.Визиализируем информацию о расстоянии для пользователей обеих категорий"
   ]
  },
  {
   "cell_type": "code",
   "execution_count": 38,
   "id": "b7233547",
   "metadata": {},
   "outputs": [
    {
     "data": {
      "image/png": "[encoded data removed]",
      "text/plain": [
       "<Figure size 432x288 with 1 Axes>"
      ]
     },
     "metadata": {
      "needs_background": "light"
     },
     "output_type": "display_data"
    }
   ],
   "source": [
    "plt.hist([data_general_free['distance'], data_general_ultra['distance']], bins=50, range=(1,6000), \n",
    "         label=['free', 'ultra'],color = ['r','b'])\n",
    "plt.legend(loc = 'best')\n",
    "plt.title('Количество поездок в зависимости расстояния поездки')\n",
    "plt.xlabel('Расстояние в метрах')\n",
    "plt.ylabel('Количество поездок')\n",
    "plt.show()"
   ]
  },
  {
   "cell_type": "code",
   "execution_count": 39,
   "id": "e249aafc",
   "metadata": {},
   "outputs": [
    {
     "data": {
      "text/plain": [
       "count    11568.000000\n",
       "mean      3045.495282\n",
       "std       1246.173806\n",
       "min          0.855683\n",
       "25%       2366.562689\n",
       "50%       3114.648465\n",
       "75%       3905.697894\n",
       "max       7211.007745\n",
       "Name: distance, dtype: float64"
      ]
     },
     "execution_count": 39,
     "metadata": {},
     "output_type": "execute_result"
    }
   ],
   "source": [
    "data_general_free['distance'].describe()"
   ]
  },
  {
   "cell_type": "code",
   "execution_count": 40,
   "id": "52efc498",
   "metadata": {},
   "outputs": [
    {
     "data": {
      "text/plain": [
       "count    6500.000000\n",
       "mean     3115.445388\n",
       "std       836.895330\n",
       "min       244.210438\n",
       "25%      2785.444017\n",
       "50%      3148.637229\n",
       "75%      3560.574425\n",
       "max      5699.769662\n",
       "Name: distance, dtype: float64"
      ]
     },
     "execution_count": 40,
     "metadata": {},
     "output_type": "execute_result"
    }
   ],
   "source": [
    "data_general_ultra['distance'].describe()"
   ]
  },
  {
   "cell_type": "markdown",
   "id": "14cb7642",
   "metadata": {},
   "source": [
    "Вывод:Исходя из гистограммы и данных,описывающих расстояние с подпиской и без можно сделать вывод о том, что медианное \n",
    "значение без подписки составляет 3114 метров, с подпиской 3148 метров.Стандартное отклонение с подпиской 836 меньше, чем без подписки 1246.Пользователь с подпиской проезжает большее расстояние."
   ]
  },
  {
   "cell_type": "markdown",
   "id": "829f392a",
   "metadata": {},
   "source": [
    "4.3.2.Визиализируем информацию о времени для пользователей обеих категорий"
   ]
  },
  {
   "cell_type": "code",
   "execution_count": 41,
   "id": "3f8c0c47",
   "metadata": {},
   "outputs": [
    {
     "data": {
      "image/png": "[encoded data removed]",
      "text/plain": [
       "<Figure size 432x288 with 1 Axes>"
      ]
     },
     "metadata": {
      "needs_background": "light"
     },
     "output_type": "display_data"
    }
   ],
   "source": [
    "plt.hist([data_general_free['duration'], data_general_ultra['duration']], bins=30, range=(1,35), \n",
    "         label=['free', 'ultra'],color = ['r','b'])\n",
    "plt.legend(loc = 'best')\n",
    "plt.title('Количество поездок в зависимости от длительности поездки')\n",
    "plt.xlabel('Продолжительность в минутах')\n",
    "plt.ylabel('Количество поездок')\n",
    "plt.show()"
   ]
  },
  {
   "cell_type": "code",
   "execution_count": 42,
   "id": "21018c6c",
   "metadata": {},
   "outputs": [
    {
     "data": {
      "text/plain": [
       "count    11568.000000\n",
       "mean        17.390909\n",
       "std          6.326803\n",
       "min          0.500000\n",
       "25%         12.958437\n",
       "50%         17.326890\n",
       "75%         21.594071\n",
       "max         34.948498\n",
       "Name: duration, dtype: float64"
      ]
     },
     "execution_count": 42,
     "metadata": {},
     "output_type": "execute_result"
    }
   ],
   "source": [
    "data_general_free['duration'].describe()"
   ]
  },
  {
   "cell_type": "code",
   "execution_count": 43,
   "id": "291936db",
   "metadata": {},
   "outputs": [
    {
     "data": {
      "text/plain": [
       "count    6500.000000\n",
       "mean       18.541985\n",
       "std         5.572048\n",
       "min         3.760353\n",
       "25%        14.524654\n",
       "50%        18.178153\n",
       "75%        21.884129\n",
       "max        40.823963\n",
       "Name: duration, dtype: float64"
      ]
     },
     "execution_count": 43,
     "metadata": {},
     "output_type": "execute_result"
    }
   ],
   "source": [
    "data_general_ultra['duration'].describe()"
   ]
  },
  {
   "cell_type": "markdown",
   "id": "ce7d5aec",
   "metadata": {},
   "source": [
    "Вывод:Подписка влияет на медианное значение количество поездок от длительности.Медиана с подпиской составляет 18,17 %, \n",
    "    без подписки 17,32 %.Максимальная длительность без подписки составила 34,94 минуты, с подпиской 40,82 минут"
   ]
  },
  {
   "cell_type": "markdown",
   "id": "760070b1",
   "metadata": {},
   "source": [
    "Итоговый вывод:С подпиской длительность поездки и расстояние поездки больше"
   ]
  },
  {
   "cell_type": "markdown",
   "id": "8faffb7f",
   "metadata": {},
   "source": [
    "<div class=\"alert alert-success\">\n",
    "<h2> Комментарий ревьюера v1 <a class=\"tocSkip\"> </h2>\n",
    "\n",
    "<b>Все супер!👍:</b> Пользователи с подпиской и без проанилизрвоаны верно!"
   ]
  },
  {
   "cell_type": "markdown",
   "id": "402d620f",
   "metadata": {},
   "source": [
    "#### Шаг 5. Подсчёт выручки"
   ]
  },
  {
   "cell_type": "markdown",
   "id": "1ebb38e3",
   "metadata": {},
   "source": [
    "5.1. Создание датафрейма с агрегированными данными о поездках"
   ]
  },
  {
   "cell_type": "code",
   "execution_count": 44,
   "id": "efcc5103",
   "metadata": {},
   "outputs": [],
   "source": [
    "#для начала округлим столбец duration\n",
    "data_general['duration'] = np.ceil(data_general['duration'])"
   ]
  },
  {
   "cell_type": "code",
   "execution_count": 45,
   "id": "18a5cfc2",
   "metadata": {
    "scrolled": true
   },
   "outputs": [],
   "source": [
    "data_base = data_general.pivot_table(index = ('user_id','new_month'),\n",
    "                values = ('distance', 'duration','minute_price','start_ride_price','subscription_fee'), \n",
    "                aggfunc={'distance':['count','sum'], \n",
    "                'duration':'sum',\n",
    "                'minute_price': 'mean',\n",
    "                'start_ride_price':'mean',\n",
    "                'subscription_fee':'mean'}\n",
    "             )\n",
    "               "
   ]
  },
  {
   "cell_type": "code",
   "execution_count": 46,
   "id": "a3040dc1",
   "metadata": {},
   "outputs": [],
   "source": [
    "#переименуем столбцы\n",
    "data_base.columns = [\n",
    "    'count', 'distance', \n",
    "    'duration', \n",
    "    'minute_price',\n",
    "    'start_ride_price', \n",
    "    'subscription_fee'\n",
    "]"
   ]
  },
  {
   "cell_type": "code",
   "execution_count": 47,
   "id": "bb707011",
   "metadata": {},
   "outputs": [
    {
     "data": {
      "text/html": [
       "<div>\n",
       "<style scoped>\n",
       "    .dataframe tbody tr th:only-of-type {\n",
       "        vertical-align: middle;\n",
       "    }\n",
       "\n",
       "    .dataframe tbody tr th {\n",
       "        vertical-align: top;\n",
       "    }\n",
       "\n",
       "    .dataframe thead th {\n",
       "        text-align: right;\n",
       "    }\n",
       "</style>\n",
       "<table border=\"1\" class=\"dataframe\">\n",
       "  <thead>\n",
       "    <tr style=\"text-align: right;\">\n",
       "      <th></th>\n",
       "      <th></th>\n",
       "      <th>count</th>\n",
       "      <th>distance</th>\n",
       "      <th>duration</th>\n",
       "      <th>minute_price</th>\n",
       "      <th>start_ride_price</th>\n",
       "      <th>subscription_fee</th>\n",
       "    </tr>\n",
       "    <tr>\n",
       "      <th>user_id</th>\n",
       "      <th>new_month</th>\n",
       "      <th></th>\n",
       "      <th></th>\n",
       "      <th></th>\n",
       "      <th></th>\n",
       "      <th></th>\n",
       "      <th></th>\n",
       "    </tr>\n",
       "  </thead>\n",
       "  <tbody>\n",
       "    <tr>\n",
       "      <th rowspan=\"5\" valign=\"top\">1</th>\n",
       "      <th>1</th>\n",
       "      <td>2</td>\n",
       "      <td>7027.511294</td>\n",
       "      <td>42.0</td>\n",
       "      <td>6</td>\n",
       "      <td>0</td>\n",
       "      <td>199</td>\n",
       "    </tr>\n",
       "    <tr>\n",
       "      <th>4</th>\n",
       "      <td>1</td>\n",
       "      <td>754.159807</td>\n",
       "      <td>7.0</td>\n",
       "      <td>6</td>\n",
       "      <td>0</td>\n",
       "      <td>199</td>\n",
       "    </tr>\n",
       "    <tr>\n",
       "      <th>8</th>\n",
       "      <td>2</td>\n",
       "      <td>6723.470560</td>\n",
       "      <td>46.0</td>\n",
       "      <td>6</td>\n",
       "      <td>0</td>\n",
       "      <td>199</td>\n",
       "    </tr>\n",
       "    <tr>\n",
       "      <th>10</th>\n",
       "      <td>2</td>\n",
       "      <td>5809.911100</td>\n",
       "      <td>32.0</td>\n",
       "      <td>6</td>\n",
       "      <td>0</td>\n",
       "      <td>199</td>\n",
       "    </tr>\n",
       "    <tr>\n",
       "      <th>11</th>\n",
       "      <td>3</td>\n",
       "      <td>7003.499363</td>\n",
       "      <td>56.0</td>\n",
       "      <td>6</td>\n",
       "      <td>0</td>\n",
       "      <td>199</td>\n",
       "    </tr>\n",
       "  </tbody>\n",
       "</table>\n",
       "</div>"
      ],
      "text/plain": [
       "                   count     distance  duration  minute_price  \\\n",
       "user_id new_month                                               \n",
       "1       1              2  7027.511294      42.0             6   \n",
       "        4              1   754.159807       7.0             6   \n",
       "        8              2  6723.470560      46.0             6   \n",
       "        10             2  5809.911100      32.0             6   \n",
       "        11             3  7003.499363      56.0             6   \n",
       "\n",
       "                   start_ride_price  subscription_fee  \n",
       "user_id new_month                                      \n",
       "1       1                         0               199  \n",
       "        4                         0               199  \n",
       "        8                         0               199  \n",
       "        10                        0               199  \n",
       "        11                        0               199  "
      ]
     },
     "execution_count": 47,
     "metadata": {},
     "output_type": "execute_result"
    }
   ],
   "source": [
    "data_base.head()"
   ]
  },
  {
   "cell_type": "markdown",
   "id": "5b58c15f",
   "metadata": {},
   "source": [
    "<div class=\"alert alert-block alert-danger\">\n",
    "<h2> Комментарий ревьюера v1<a class=\"tocSkip\"></h2>\n",
    "\n",
    "<b>На доработку🤔:</b>  Каждая поездка должна округляться по отдельностти"
   ]
  },
  {
   "cell_type": "markdown",
   "id": "b069c126",
   "metadata": {},
   "source": [
    "<div class=\"alert alert-info\">\n",
    "<b>Длительность поездка округлена до сводной таблицы, то есть каждая в отдельности.Вопрос, можно это было сделать с предобрабоке данных?И как узнать насколько надо округлять?Только из диалога с заказчиком</b> \n",
    "</div>"
   ]
  },
  {
   "cell_type": "markdown",
   "id": "9b93d675",
   "metadata": {},
   "source": [
    "<div class=\"alert alert-success\">\n",
    "<h2> Комментарий ревьюера v2 <a class=\"tocSkip\"> </h2>\n",
    "\n",
    "<b>Все супер!👍:</b> Округление проведено вено, молодец! Можно сделать и в предобработке. Узнать нужно из документации или из диалога с заказчиком"
   ]
  },
  {
   "cell_type": "markdown",
   "id": "7bd3102d",
   "metadata": {},
   "source": [
    "5.2. Добавление столбца с помесячной выручкой"
   ]
  },
  {
   "cell_type": "code",
   "execution_count": 48,
   "id": "98ab7798",
   "metadata": {},
   "outputs": [],
   "source": [
    "data_base['revenue'] = (data_base['start_ride_price'] * data_base['count']\n",
    "                        + data_base['minute_price']*data_base['duration']+data_base['subscription_fee'])"
   ]
  },
  {
   "cell_type": "code",
   "execution_count": 49,
   "id": "3109ddd4",
   "metadata": {},
   "outputs": [
    {
     "data": {
      "text/html": [
       "<div>\n",
       "<style scoped>\n",
       "    .dataframe tbody tr th:only-of-type {\n",
       "        vertical-align: middle;\n",
       "    }\n",
       "\n",
       "    .dataframe tbody tr th {\n",
       "        vertical-align: top;\n",
       "    }\n",
       "\n",
       "    .dataframe thead th {\n",
       "        text-align: right;\n",
       "    }\n",
       "</style>\n",
       "<table border=\"1\" class=\"dataframe\">\n",
       "  <thead>\n",
       "    <tr style=\"text-align: right;\">\n",
       "      <th></th>\n",
       "      <th></th>\n",
       "      <th>count</th>\n",
       "      <th>distance</th>\n",
       "      <th>duration</th>\n",
       "      <th>minute_price</th>\n",
       "      <th>start_ride_price</th>\n",
       "      <th>subscription_fee</th>\n",
       "      <th>revenue</th>\n",
       "    </tr>\n",
       "    <tr>\n",
       "      <th>user_id</th>\n",
       "      <th>new_month</th>\n",
       "      <th></th>\n",
       "      <th></th>\n",
       "      <th></th>\n",
       "      <th></th>\n",
       "      <th></th>\n",
       "      <th></th>\n",
       "      <th></th>\n",
       "    </tr>\n",
       "  </thead>\n",
       "  <tbody>\n",
       "    <tr>\n",
       "      <th rowspan=\"5\" valign=\"top\">1</th>\n",
       "      <th>1</th>\n",
       "      <td>2</td>\n",
       "      <td>7027.511294</td>\n",
       "      <td>42.0</td>\n",
       "      <td>6</td>\n",
       "      <td>0</td>\n",
       "      <td>199</td>\n",
       "      <td>451.0</td>\n",
       "    </tr>\n",
       "    <tr>\n",
       "      <th>4</th>\n",
       "      <td>1</td>\n",
       "      <td>754.159807</td>\n",
       "      <td>7.0</td>\n",
       "      <td>6</td>\n",
       "      <td>0</td>\n",
       "      <td>199</td>\n",
       "      <td>241.0</td>\n",
       "    </tr>\n",
       "    <tr>\n",
       "      <th>8</th>\n",
       "      <td>2</td>\n",
       "      <td>6723.470560</td>\n",
       "      <td>46.0</td>\n",
       "      <td>6</td>\n",
       "      <td>0</td>\n",
       "      <td>199</td>\n",
       "      <td>475.0</td>\n",
       "    </tr>\n",
       "    <tr>\n",
       "      <th>10</th>\n",
       "      <td>2</td>\n",
       "      <td>5809.911100</td>\n",
       "      <td>32.0</td>\n",
       "      <td>6</td>\n",
       "      <td>0</td>\n",
       "      <td>199</td>\n",
       "      <td>391.0</td>\n",
       "    </tr>\n",
       "    <tr>\n",
       "      <th>11</th>\n",
       "      <td>3</td>\n",
       "      <td>7003.499363</td>\n",
       "      <td>56.0</td>\n",
       "      <td>6</td>\n",
       "      <td>0</td>\n",
       "      <td>199</td>\n",
       "      <td>535.0</td>\n",
       "    </tr>\n",
       "  </tbody>\n",
       "</table>\n",
       "</div>"
      ],
      "text/plain": [
       "                   count     distance  duration  minute_price  \\\n",
       "user_id new_month                                               \n",
       "1       1              2  7027.511294      42.0             6   \n",
       "        4              1   754.159807       7.0             6   \n",
       "        8              2  6723.470560      46.0             6   \n",
       "        10             2  5809.911100      32.0             6   \n",
       "        11             3  7003.499363      56.0             6   \n",
       "\n",
       "                   start_ride_price  subscription_fee  revenue  \n",
       "user_id new_month                                               \n",
       "1       1                         0               199    451.0  \n",
       "        4                         0               199    241.0  \n",
       "        8                         0               199    475.0  \n",
       "        10                        0               199    391.0  \n",
       "        11                        0               199    535.0  "
      ]
     },
     "execution_count": 49,
     "metadata": {},
     "output_type": "execute_result"
    }
   ],
   "source": [
    "data_base.head()"
   ]
  },
  {
   "cell_type": "code",
   "execution_count": 50,
   "id": "5d0e4959",
   "metadata": {},
   "outputs": [
    {
     "data": {
      "text/plain": [
       "3878641.0"
      ]
     },
     "execution_count": 50,
     "metadata": {},
     "output_type": "execute_result"
    }
   ],
   "source": [
    "data_base['revenue'].sum()"
   ]
  },
  {
   "cell_type": "markdown",
   "id": "6d03582f",
   "metadata": {},
   "source": [
    "Вывод:Добавили новый столбец с выручкой помесячно по каждому пользователю data_base['revenue']. Подсчитали выручку помесячно по каждому пользователю и ради интереса посчитали всю выручку.Она составила 3 878 641 рублей\n",
    "    "
   ]
  },
  {
   "cell_type": "markdown",
   "id": "41545ac0",
   "metadata": {},
   "source": [
    "#### Шаг 6. Проверка гипотез"
   ]
  },
  {
   "cell_type": "markdown",
   "id": "d9a85b3c",
   "metadata": {},
   "source": [
    "6.1.Проверим, тратят ли пользователи с подпиской больше времени, чем без подписки"
   ]
  },
  {
   "cell_type": "markdown",
   "id": "378a9478",
   "metadata": {},
   "source": [
    "H0:Пользователи с подпиской тратят столько же времени, сколько без подписки\n",
    "\n",
    "H1:  Пользователи с подпиской тратят больше времени, чем без подписки"
   ]
  },
  {
   "cell_type": "markdown",
   "id": "d1f90fb5",
   "metadata": {},
   "source": [
    "<div class=\"alert alert-success\">\n",
    "<h2> Комментарий ревьюера v1 <a class=\"tocSkip\"> </h2>\n",
    "\n",
    "<b>Все супер!👍:</b> Верная формулировка гипотез"
   ]
  },
  {
   "cell_type": "code",
   "execution_count": 51,
   "id": "0cc4caeb",
   "metadata": {},
   "outputs": [
    {
     "name": "stdout",
     "output_type": "stream",
     "text": [
      "2.5608196633291235e-34\n",
      "Отвергаем нулевую гипотезу\n"
     ]
    }
   ],
   "source": [
    "from scipy import stats as st\n",
    "alfa = 0.05\n",
    "\n",
    "results = st.ttest_ind(\n",
    "data_general_free['duration'],\n",
    "data_general_ultra['duration'])\n",
    "print(results.pvalue)\n",
    "\n",
    "if results.pvalue < alfa:\n",
    "    print('Отвергаем нулевую гипотезу')\n",
    "else:\n",
    "    print('Не получилось отвергнуть нулевую гипотезу')\n"
   ]
  },
  {
   "cell_type": "markdown",
   "id": "91b5c412",
   "metadata": {},
   "source": [
    "Вывод:нулевая гипотеза отвергнута, можно предроложить, что с подпиской продолжительность поездки больше, чем без подписки"
   ]
  },
  {
   "cell_type": "markdown",
   "id": "2571dd55",
   "metadata": {},
   "source": [
    "<div class=\"alert alert-success\">\n",
    "<h2> Комментарий ревьюера v1 <a class=\"tocSkip\"> </h2>\n",
    "\n",
    "<b>Все супер!👍:</b> Сделано верно!"
   ]
  },
  {
   "cell_type": "markdown",
   "id": "ad0fcd7d",
   "metadata": {},
   "source": [
    "<div class=\"alert alert-info\">\n",
    "<b>Евгений, а тут я не поняла)не тот цвет залит :)</b> \n",
    "</div>"
   ]
  },
  {
   "cell_type": "markdown",
   "id": "14c8f163",
   "metadata": {},
   "source": [
    "<div class=\"alert alert-success\">\n",
    "<h2> Комментарий ревьюера v2 <a class=\"tocSkip\"> </h2>\n",
    "\n",
    "<b>Все супер!👍:</b> Упс, виноват)"
   ]
  },
  {
   "cell_type": "markdown",
   "id": "ea109e11",
   "metadata": {},
   "source": [
    "6.2.Проверим, что среднее расстояние, которое проезжает пользователь с подпиской за одну поездку не превышает 3130 метров"
   ]
  },
  {
   "cell_type": "markdown",
   "id": "5f00bed7",
   "metadata": {},
   "source": [
    "H0:расстояние с подпиской ultra равно 3130 метров\n",
    "\n",
    "H1:расстояние с подпиской ultra превышает 3130 метров   "
   ]
  },
  {
   "cell_type": "markdown",
   "id": "5139e64d",
   "metadata": {},
   "source": [
    "<div class=\"alert alert-success\">\n",
    "<h2> Комментарий ревьюера v1 <a class=\"tocSkip\"> </h2>\n",
    "\n",
    "<b>Все супер!👍:</b> Гипотезы сформулированы верно!"
   ]
  },
  {
   "cell_type": "code",
   "execution_count": 52,
   "id": "0d3c2a17",
   "metadata": {},
   "outputs": [
    {
     "name": "stdout",
     "output_type": "stream",
     "text": [
      "0.16092623043004292\n",
      "Не получилось отвергнуть нулевую гипотезу\n"
     ]
    }
   ],
   "source": [
    "distance = 3130\n",
    "alpha = 0.05\n",
    "\n",
    "results = st.ttest_1samp(\n",
    "data_general_ultra['distance'],\n",
    "distance)\n",
    "print(results.pvalue)\n",
    "\n",
    "if results.pvalue < alfa:\n",
    "    print('Отвергаем нулевую гипотезу')\n",
    "else:\n",
    "    print('Не получилось отвергнуть нулевую гипотезу')"
   ]
  },
  {
   "cell_type": "markdown",
   "id": "752eaa57",
   "metadata": {},
   "source": [
    "Вывод:Нулевая гипотеза не отвергнута, следовательно среднее расстояние,которое пользователь проезжает с подпиской составляет 3130 метров"
   ]
  },
  {
   "cell_type": "markdown",
   "id": "d04d9847",
   "metadata": {},
   "source": [
    "<div class=\"alert alert-success\">\n",
    "<h2> Комментарий ревьюера v1 <a class=\"tocSkip\"> </h2>\n",
    "\n",
    "<b>Все супер!👍:</b> Есть, правильно!"
   ]
  },
  {
   "cell_type": "markdown",
   "id": "672ee34d",
   "metadata": {},
   "source": [
    "6.3.Проверим, что помесячная выручка от пользователей с подпиской по месяцам выше, чем выручка от пользователей без подписки"
   ]
  },
  {
   "cell_type": "markdown",
   "id": "f3875ecd",
   "metadata": {},
   "source": [
    "Ho:помесячная выручка от пользователей с подпиской равна помесячной выручке пользователей без подписки\n",
    "\n",
    "H1:помесячная выручка от пользователей с подпиской больше помесячной выручке пользователей без подписки   "
   ]
  },
  {
   "cell_type": "markdown",
   "id": "74c1d828",
   "metadata": {},
   "source": [
    "<div class=\"alert alert-success\">\n",
    "<h2> Комментарий ревьюера v1 <a class=\"tocSkip\"> </h2>\n",
    "\n",
    "<b>Все супер!👍:</b> Гипотезы сформулированы верно! "
   ]
  },
  {
   "cell_type": "code",
   "execution_count": 53,
   "id": "39115e57",
   "metadata": {},
   "outputs": [
    {
     "name": "stdout",
     "output_type": "stream",
     "text": [
      "3.7700788769430433e-31\n",
      "Отвергаем нулевую гипотезу\n"
     ]
    }
   ],
   "source": [
    "alpha = 0.05\n",
    "results = st.ttest_ind(\n",
    "data_base.loc[data_base['subscription_fee'] != 0,'revenue'],\n",
    "data_base.loc[data_base['subscription_fee'] == 0,'revenue'])\n",
    "print(results.pvalue)\n",
    "\n",
    "if results.pvalue < alfa:\n",
    "    print('Отвергаем нулевую гипотезу')\n",
    "else:\n",
    "    print('Не получилось отвергнуть нулевую гипотезу')\n"
   ]
  },
  {
   "cell_type": "markdown",
   "id": "c2124dc6",
   "metadata": {},
   "source": [
    "Вывод:Нулевая гипотеза отвергнута.Может предположить, что выручка от пользователей с подпиской больше помесячной выручки от пользователей без подписки при установленном уровне значимости 5 %"
   ]
  },
  {
   "cell_type": "markdown",
   "id": "a3603c82",
   "metadata": {},
   "source": [
    "<div class=\"alert alert-block alert-danger\">\n",
    "<h2> Комментарий ревьюера v1<a class=\"tocSkip\"></h2>\n",
    "\n",
    "<b>На доработку🤔:</b>  Нужно перепроверить после того, как будет испралвен подсчет выручки"
   ]
  },
  {
   "cell_type": "markdown",
   "id": "48733473",
   "metadata": {},
   "source": [
    "<div class=\"alert alert-info\">\n",
    "<b>Гипотеза перепроверена после исправления выручки и тоже отвергнута</b> \n",
    "</div>"
   ]
  },
  {
   "cell_type": "markdown",
   "id": "02ccdff1",
   "metadata": {},
   "source": [
    "<div class=\"alert alert-success\">\n",
    "<h2> Комментарий ревьюера v2 <a class=\"tocSkip\"> </h2>\n",
    "\n",
    "<b>Все супер!👍:</b> Сделано верно!"
   ]
  },
  {
   "cell_type": "markdown",
   "id": "7ca882a2",
   "metadata": {},
   "source": [
    "6.4. Техническая команда сервиса обновила сервера, с которыми взаимодействует мобильное приложение. Она надеется, что из-за этого количество обращений в техподдержку значимо снизилось. Некоторый файл содержит для каждого пользователя данные о количестве обращений до обновления и после него. Какой тест вам понадобился бы для проверки этой гипотезы?"
   ]
  },
  {
   "cell_type": "markdown",
   "id": "5ea1788c",
   "metadata": {},
   "source": [
    "Так как мы имеем 2 зависимые(парные) выборки до обновления сервера и после,можем использовать sciny.stats.ttest_rel"
   ]
  },
  {
   "cell_type": "markdown",
   "id": "9b2d39c2",
   "metadata": {},
   "source": [
    "<div class=\"alert alert-success\">\n",
    "<h2> Комментарий ревьюера v1 <a class=\"tocSkip\"> </h2>\n",
    "\n",
    "<b>Все супер!👍:</b> Тест выбран верно!"
   ]
  },
  {
   "cell_type": "markdown",
   "id": "bc0e500a",
   "metadata": {},
   "source": [
    "Выводы : \n",
    "    \n",
    "1. С подпиской продолжительность поездки больше, чем без подписки\n",
    "\n",
    "2. Среднее расстояние,которое пользователь проезжает с подпиской составляет 3130 метров\n",
    "\n",
    "3. Выручка от пользователей с подпиской больше помесячной выручки от пользователей без подписки "
   ]
  },
  {
   "cell_type": "markdown",
   "id": "8a5d9f68",
   "metadata": {},
   "source": [
    "Общий вывод:\n",
    "    \n",
    "1.При работе над проектом использовались 3 датафрейма:user,rides и subscriptions\n",
    "    \n",
    "2.Пропусков обнаружено не было, 31 дубликат был удален из user\n",
    "\n",
    "3.Тройку лидеров по прокату возглавляют Пятигорск, Екатеринбург и Ростов-на-Дону.Аутсайдерами являются Москва и Тюмень.\n",
    "\n",
    "4.Количество пользователей с подпиской составляет 45,6 %, без подписки 54,4 %\n",
    "\n",
    "5.Наибольшее количество пользователей находится в диапазоне 22-27 лет\n",
    "\n",
    "6.Наиболее частое расстояние, которое проехал пользователь составляет 2700-3500 метров\n",
    "\n",
    "7.Частое время использование самокатов от 13 до 22 минут\n",
    "\n",
    "8.С подпиской длительность поездки и расстояние поездки больше\n",
    "\n",
    "9.Добавили новый столбец с выручкой помесячно по каждому пользователю data_base['revenue'].\n",
    "Подсчитали выручку помесячно по каждому пользователю и ради интереса посчитали всю выручку.\n",
    "Она составила 3 878 641 рублей\n",
    "    \n",
    "    Проверка гипотез показала следующее:\n",
    "        \n",
    "- С подпиской продолжительность поездки больше, чем без подписки\n",
    "\n",
    "- Среднее расстояние,которое пользователь проезжает с подпиской составляет 3130 метров\n",
    "\n",
    "- Выручка от пользователей с подпиской больше помесячной выручки от пользователей без подписки\n",
    "\n",
    "Подводя итог, можно сказать, что пользователи с подпиской приносят наибольшую выручку,\n",
    "маркетинговому отделу необходимо провести акции, \n",
    "чтобы как можно больше людей оформили подписку"
   ]
  },
  {
   "cell_type": "markdown",
   "id": "f5bd16f5",
   "metadata": {},
   "source": [
    "<div class=\"alert alert-success\">\n",
    "<h2> Комментарий ревьюера v1 <a class=\"tocSkip\"> </h2>\n",
    "\n",
    "<b>Все супер!👍:</b> Итоговый вывод нужно исправить после того, как будут исправлены отмеченные выше ошибки"
   ]
  },
  {
   "cell_type": "markdown",
   "id": "6d197884",
   "metadata": {},
   "source": [
    "<div style=\"border:solid Chocolate 2px; padding: 40px\">\n",
    "    \n",
    "**Общий вывод по проекту ревьювера**:\n",
    "     Ирина, спасибо за  проект! Ты приложила много усилий, чтобы довести его до конца, проделана огромная работа, и это видно невооруженным глазом, ты большой молодец!\n",
    "    \n",
    "**Отмечу положительные моменты**:\n",
    "    \n",
    "    1. Все разложено по полочкам, всегда понятен ход твоих мыслей, приятно смотреть\n",
    "    \n",
    "    2. Отличные визуализации\n",
    "    \n",
    "    2. На разных шагах проекта ты предлагала очень интересные решения и методы для их реализации. Хорошая работа!\n",
    "    \n",
    "    \n",
    "**На что стоит обратить внимание**:\n",
    "    \n",
    "    1. Не все графики оформлены верно\n",
    "\n",
    "    2. Не проверено, насколько правильно проведено объединение\n",
    "\n",
    "    3. Выручка подсчитана неверно\n",
    "    \n",
    "    \n",
    "**Удачи и жду твой проект на повторное ревью!**"
   ]
  },
  {
   "cell_type": "markdown",
   "id": "62790d44",
   "metadata": {},
   "source": [
    "<div style=\"border:solid Chocolate 2px; padding: 40px\">\n",
    "    \n",
    "**Общий вывод по проекту ревьювера v2**:\n",
    "     Ирина, ошибки исправлены, проект принят, поздравляю тебя! Успешной учебы и еще увидимся в Практикуме!"
   ]
  },
  {
   "cell_type": "markdown",
   "id": "61213c5e",
   "metadata": {},
   "source": [
    "#### Шаг 7. Распределения"
   ]
  }
 ],
 "metadata": {
  "ExecuteTimeLog": [
   {
    "duration": 53,
    "start_time": "2024-06-26T16:15:02.413Z"
   },
   {
    "duration": 441,
    "start_time": "2024-06-26T16:15:19.630Z"
   },
   {
    "duration": 310,
    "start_time": "2024-06-26T16:15:23.159Z"
   },
   {
    "duration": 13,
    "start_time": "2024-06-26T16:30:04.582Z"
   },
   {
    "duration": 16,
    "start_time": "2024-06-26T16:31:18.880Z"
   },
   {
    "duration": 13,
    "start_time": "2024-06-26T16:32:57.262Z"
   },
   {
    "duration": 10,
    "start_time": "2024-06-26T16:33:19.166Z"
   },
   {
    "duration": 11,
    "start_time": "2024-06-26T16:37:29.488Z"
   },
   {
    "duration": 7,
    "start_time": "2024-06-26T16:37:37.806Z"
   },
   {
    "duration": 39,
    "start_time": "2024-06-26T16:54:58.404Z"
   },
   {
    "duration": 8,
    "start_time": "2024-06-26T16:55:27.521Z"
   },
   {
    "duration": 11,
    "start_time": "2024-06-26T16:56:14.065Z"
   },
   {
    "duration": 908,
    "start_time": "2024-06-26T17:11:36.585Z"
   },
   {
    "duration": 375,
    "start_time": "2024-06-26T17:13:21.808Z"
   },
   {
    "duration": 73,
    "start_time": "2024-06-26T17:13:22.185Z"
   },
   {
    "duration": 0,
    "start_time": "2024-06-26T17:13:22.260Z"
   },
   {
    "duration": 0,
    "start_time": "2024-06-26T17:13:22.261Z"
   },
   {
    "duration": 0,
    "start_time": "2024-06-26T17:13:22.262Z"
   },
   {
    "duration": 0,
    "start_time": "2024-06-26T17:13:22.263Z"
   },
   {
    "duration": 0,
    "start_time": "2024-06-26T17:13:22.263Z"
   },
   {
    "duration": 0,
    "start_time": "2024-06-26T17:13:22.265Z"
   },
   {
    "duration": 0,
    "start_time": "2024-06-26T17:13:22.266Z"
   },
   {
    "duration": 0,
    "start_time": "2024-06-26T17:13:22.267Z"
   },
   {
    "duration": 0,
    "start_time": "2024-06-26T17:13:22.268Z"
   },
   {
    "duration": 398,
    "start_time": "2024-06-26T17:13:52.786Z"
   },
   {
    "duration": 69,
    "start_time": "2024-06-26T17:13:53.186Z"
   },
   {
    "duration": 11,
    "start_time": "2024-06-26T17:13:53.258Z"
   },
   {
    "duration": 18,
    "start_time": "2024-06-26T17:13:53.272Z"
   },
   {
    "duration": 20,
    "start_time": "2024-06-26T17:13:53.292Z"
   },
   {
    "duration": 12,
    "start_time": "2024-06-26T17:13:53.315Z"
   },
   {
    "duration": 27,
    "start_time": "2024-06-26T17:13:53.328Z"
   },
   {
    "duration": 8,
    "start_time": "2024-06-26T17:13:53.357Z"
   },
   {
    "duration": 116,
    "start_time": "2024-06-26T17:13:53.367Z"
   },
   {
    "duration": 14,
    "start_time": "2024-06-26T17:13:53.487Z"
   },
   {
    "duration": 987,
    "start_time": "2024-06-26T17:13:53.502Z"
   },
   {
    "duration": 5,
    "start_time": "2024-06-26T17:14:18.870Z"
   },
   {
    "duration": 9,
    "start_time": "2024-06-26T17:15:19.306Z"
   },
   {
    "duration": 7,
    "start_time": "2024-06-26T17:20:44.581Z"
   },
   {
    "duration": 7,
    "start_time": "2024-06-26T17:21:55.400Z"
   },
   {
    "duration": 8,
    "start_time": "2024-06-26T17:22:08.985Z"
   },
   {
    "duration": 11,
    "start_time": "2024-06-26T17:32:49.469Z"
   },
   {
    "duration": 10,
    "start_time": "2024-06-26T17:33:22.253Z"
   },
   {
    "duration": 6,
    "start_time": "2024-06-26T17:34:00.121Z"
   },
   {
    "duration": 10,
    "start_time": "2024-06-26T17:36:35.356Z"
   },
   {
    "duration": 5,
    "start_time": "2024-06-26T17:36:38.628Z"
   },
   {
    "duration": 7,
    "start_time": "2024-06-26T18:55:09.915Z"
   },
   {
    "duration": 51,
    "start_time": "2024-06-29T15:04:14.436Z"
   },
   {
    "duration": 450,
    "start_time": "2024-06-29T15:04:28.131Z"
   },
   {
    "duration": 205,
    "start_time": "2024-06-29T15:04:28.583Z"
   },
   {
    "duration": 12,
    "start_time": "2024-06-29T15:04:28.790Z"
   },
   {
    "duration": 16,
    "start_time": "2024-06-29T15:04:28.804Z"
   },
   {
    "duration": 12,
    "start_time": "2024-06-29T15:04:28.822Z"
   },
   {
    "duration": 9,
    "start_time": "2024-06-29T15:04:28.836Z"
   },
   {
    "duration": 20,
    "start_time": "2024-06-29T15:04:28.847Z"
   },
   {
    "duration": 8,
    "start_time": "2024-06-29T15:04:28.869Z"
   },
   {
    "duration": 9,
    "start_time": "2024-06-29T15:04:28.878Z"
   },
   {
    "duration": 10,
    "start_time": "2024-06-29T15:04:28.890Z"
   },
   {
    "duration": 5,
    "start_time": "2024-06-29T15:04:28.902Z"
   },
   {
    "duration": 10,
    "start_time": "2024-06-29T15:04:28.908Z"
   },
   {
    "duration": 42,
    "start_time": "2024-06-29T15:04:28.920Z"
   },
   {
    "duration": 6,
    "start_time": "2024-06-29T15:04:28.964Z"
   },
   {
    "duration": 15,
    "start_time": "2024-06-29T15:04:28.971Z"
   },
   {
    "duration": 8,
    "start_time": "2024-06-29T15:04:28.988Z"
   },
   {
    "duration": 9,
    "start_time": "2024-06-29T15:04:28.998Z"
   },
   {
    "duration": 5,
    "start_time": "2024-06-29T15:04:29.008Z"
   },
   {
    "duration": 8,
    "start_time": "2024-06-29T15:04:29.015Z"
   },
   {
    "duration": 37,
    "start_time": "2024-06-29T15:04:29.024Z"
   },
   {
    "duration": 583,
    "start_time": "2024-06-29T15:19:03.373Z"
   },
   {
    "duration": 146,
    "start_time": "2024-06-29T15:31:09.951Z"
   },
   {
    "duration": 184,
    "start_time": "2024-06-29T15:32:17.963Z"
   },
   {
    "duration": 169,
    "start_time": "2024-06-29T15:32:33.429Z"
   },
   {
    "duration": 75,
    "start_time": "2024-06-29T15:38:37.550Z"
   },
   {
    "duration": 8,
    "start_time": "2024-06-29T15:38:56.965Z"
   },
   {
    "duration": 16,
    "start_time": "2024-06-29T15:39:22.936Z"
   },
   {
    "duration": 76,
    "start_time": "2024-06-29T15:42:02.947Z"
   },
   {
    "duration": 13,
    "start_time": "2024-06-29T15:43:41.426Z"
   },
   {
    "duration": 71,
    "start_time": "2024-06-29T15:53:56.333Z"
   },
   {
    "duration": 64,
    "start_time": "2024-06-29T15:55:24.865Z"
   },
   {
    "duration": 447,
    "start_time": "2024-06-29T15:56:46.628Z"
   },
   {
    "duration": 262,
    "start_time": "2024-06-29T15:56:47.078Z"
   },
   {
    "duration": 70,
    "start_time": "2024-06-29T15:56:47.341Z"
   },
   {
    "duration": 13,
    "start_time": "2024-06-29T15:56:47.414Z"
   },
   {
    "duration": 14,
    "start_time": "2024-06-29T15:56:47.429Z"
   },
   {
    "duration": 12,
    "start_time": "2024-06-29T15:56:47.444Z"
   },
   {
    "duration": 10,
    "start_time": "2024-06-29T15:56:47.458Z"
   },
   {
    "duration": 12,
    "start_time": "2024-06-29T15:56:47.470Z"
   },
   {
    "duration": 8,
    "start_time": "2024-06-29T15:56:47.484Z"
   },
   {
    "duration": 8,
    "start_time": "2024-06-29T15:56:47.495Z"
   },
   {
    "duration": 10,
    "start_time": "2024-06-29T15:56:47.505Z"
   },
   {
    "duration": 6,
    "start_time": "2024-06-29T15:56:47.517Z"
   },
   {
    "duration": 44,
    "start_time": "2024-06-29T15:56:47.525Z"
   },
   {
    "duration": 5,
    "start_time": "2024-06-29T15:56:47.570Z"
   },
   {
    "duration": 11,
    "start_time": "2024-06-29T15:56:47.577Z"
   },
   {
    "duration": 33,
    "start_time": "2024-06-29T15:56:47.590Z"
   },
   {
    "duration": 31,
    "start_time": "2024-06-29T15:56:47.625Z"
   },
   {
    "duration": 57,
    "start_time": "2024-06-29T15:56:47.658Z"
   },
   {
    "duration": 7,
    "start_time": "2024-06-29T15:56:47.717Z"
   },
   {
    "duration": 5,
    "start_time": "2024-06-29T15:56:47.726Z"
   },
   {
    "duration": 50,
    "start_time": "2024-06-29T15:56:47.733Z"
   },
   {
    "duration": 54,
    "start_time": "2024-06-29T15:57:35.635Z"
   },
   {
    "duration": 670,
    "start_time": "2024-06-29T15:59:43.656Z"
   },
   {
    "duration": 69,
    "start_time": "2024-06-29T15:59:44.328Z"
   },
   {
    "duration": 26,
    "start_time": "2024-06-29T15:59:44.398Z"
   },
   {
    "duration": 27,
    "start_time": "2024-06-29T15:59:44.427Z"
   },
   {
    "duration": 12,
    "start_time": "2024-06-29T15:59:44.455Z"
   },
   {
    "duration": 9,
    "start_time": "2024-06-29T15:59:44.468Z"
   },
   {
    "duration": 14,
    "start_time": "2024-06-29T15:59:44.479Z"
   },
   {
    "duration": 16,
    "start_time": "2024-06-29T15:59:44.495Z"
   },
   {
    "duration": 14,
    "start_time": "2024-06-29T15:59:44.512Z"
   },
   {
    "duration": 17,
    "start_time": "2024-06-29T15:59:44.529Z"
   },
   {
    "duration": 82,
    "start_time": "2024-06-29T15:59:44.561Z"
   },
   {
    "duration": 11,
    "start_time": "2024-06-29T15:59:44.645Z"
   },
   {
    "duration": 7,
    "start_time": "2024-06-29T15:59:44.658Z"
   },
   {
    "duration": 22,
    "start_time": "2024-06-29T15:59:44.666Z"
   },
   {
    "duration": 11,
    "start_time": "2024-06-29T15:59:44.690Z"
   },
   {
    "duration": 24,
    "start_time": "2024-06-29T15:59:44.702Z"
   },
   {
    "duration": 22,
    "start_time": "2024-06-29T15:59:44.728Z"
   },
   {
    "duration": 5,
    "start_time": "2024-06-29T15:59:44.752Z"
   },
   {
    "duration": 12,
    "start_time": "2024-06-29T15:59:44.759Z"
   },
   {
    "duration": 49,
    "start_time": "2024-06-29T15:59:44.773Z"
   },
   {
    "duration": 74,
    "start_time": "2024-06-29T16:00:46.127Z"
   },
   {
    "duration": 227,
    "start_time": "2024-06-29T16:00:54.355Z"
   },
   {
    "duration": 80,
    "start_time": "2024-06-29T16:04:20.387Z"
   },
   {
    "duration": 61,
    "start_time": "2024-06-29T16:05:15.596Z"
   },
   {
    "duration": 221,
    "start_time": "2024-06-29T16:05:45.850Z"
   },
   {
    "duration": 190,
    "start_time": "2024-06-29T16:06:26.448Z"
   },
   {
    "duration": 200,
    "start_time": "2024-06-29T16:12:15.998Z"
   },
   {
    "duration": 245,
    "start_time": "2024-06-29T16:12:59.163Z"
   },
   {
    "duration": 201,
    "start_time": "2024-06-29T16:13:18.966Z"
   },
   {
    "duration": 181,
    "start_time": "2024-06-29T16:15:53.038Z"
   },
   {
    "duration": 53,
    "start_time": "2024-06-29T16:16:19.578Z"
   },
   {
    "duration": 56,
    "start_time": "2024-06-29T16:16:44.003Z"
   },
   {
    "duration": 190,
    "start_time": "2024-06-29T16:17:19.554Z"
   },
   {
    "duration": 9,
    "start_time": "2024-06-29T16:28:45.265Z"
   },
   {
    "duration": 14,
    "start_time": "2024-06-29T16:30:09.814Z"
   },
   {
    "duration": 8,
    "start_time": "2024-06-29T16:32:37.313Z"
   },
   {
    "duration": 10,
    "start_time": "2024-06-29T16:33:00.328Z"
   },
   {
    "duration": 8,
    "start_time": "2024-06-29T16:33:20.382Z"
   },
   {
    "duration": 6,
    "start_time": "2024-06-29T16:34:27.197Z"
   },
   {
    "duration": 776,
    "start_time": "2024-06-29T16:40:09.458Z"
   },
   {
    "duration": 71,
    "start_time": "2024-06-29T16:40:10.236Z"
   },
   {
    "duration": 13,
    "start_time": "2024-06-29T16:40:10.308Z"
   },
   {
    "duration": 49,
    "start_time": "2024-06-29T16:40:10.324Z"
   },
   {
    "duration": 37,
    "start_time": "2024-06-29T16:40:10.375Z"
   },
   {
    "duration": 30,
    "start_time": "2024-06-29T16:40:10.414Z"
   },
   {
    "duration": 35,
    "start_time": "2024-06-29T16:40:10.446Z"
   },
   {
    "duration": 47,
    "start_time": "2024-06-29T16:40:10.482Z"
   },
   {
    "duration": 56,
    "start_time": "2024-06-29T16:40:10.530Z"
   },
   {
    "duration": 47,
    "start_time": "2024-06-29T16:40:10.588Z"
   },
   {
    "duration": 24,
    "start_time": "2024-06-29T16:40:10.637Z"
   },
   {
    "duration": 30,
    "start_time": "2024-06-29T16:40:10.662Z"
   },
   {
    "duration": 51,
    "start_time": "2024-06-29T16:40:10.694Z"
   },
   {
    "duration": 49,
    "start_time": "2024-06-29T16:40:10.747Z"
   },
   {
    "duration": 47,
    "start_time": "2024-06-29T16:40:10.798Z"
   },
   {
    "duration": 29,
    "start_time": "2024-06-29T16:40:10.847Z"
   },
   {
    "duration": 39,
    "start_time": "2024-06-29T16:40:10.878Z"
   },
   {
    "duration": 33,
    "start_time": "2024-06-29T16:40:10.918Z"
   },
   {
    "duration": 25,
    "start_time": "2024-06-29T16:40:10.953Z"
   },
   {
    "duration": 37,
    "start_time": "2024-06-29T16:40:10.980Z"
   },
   {
    "duration": 229,
    "start_time": "2024-06-29T16:40:11.018Z"
   },
   {
    "duration": 72,
    "start_time": "2024-06-29T16:59:23.648Z"
   },
   {
    "duration": 17,
    "start_time": "2024-06-29T16:59:42.287Z"
   },
   {
    "duration": 13,
    "start_time": "2024-06-29T17:00:49.442Z"
   },
   {
    "duration": 1056,
    "start_time": "2024-06-29T17:02:38.371Z"
   },
   {
    "duration": 15,
    "start_time": "2024-06-29T17:03:04.392Z"
   },
   {
    "duration": 1054,
    "start_time": "2024-06-29T17:04:29.568Z"
   },
   {
    "duration": 168,
    "start_time": "2024-06-29T17:05:12.421Z"
   },
   {
    "duration": 180,
    "start_time": "2024-06-29T17:06:01.959Z"
   },
   {
    "duration": 164,
    "start_time": "2024-06-29T17:06:11.158Z"
   },
   {
    "duration": 243,
    "start_time": "2024-06-29T17:09:43.086Z"
   },
   {
    "duration": 138,
    "start_time": "2024-06-29T17:11:09.627Z"
   },
   {
    "duration": 161,
    "start_time": "2024-06-29T17:11:33.896Z"
   },
   {
    "duration": 143,
    "start_time": "2024-06-29T17:13:20.563Z"
   },
   {
    "duration": 146,
    "start_time": "2024-06-29T17:13:39.432Z"
   },
   {
    "duration": 139,
    "start_time": "2024-06-29T17:14:25.404Z"
   },
   {
    "duration": 146,
    "start_time": "2024-06-29T17:15:41.366Z"
   },
   {
    "duration": 6,
    "start_time": "2024-06-29T17:41:08.478Z"
   },
   {
    "duration": 9,
    "start_time": "2024-06-29T17:42:58.820Z"
   },
   {
    "duration": 1024,
    "start_time": "2024-06-29T17:48:58.293Z"
   },
   {
    "duration": 285,
    "start_time": "2024-06-29T17:49:38.603Z"
   },
   {
    "duration": 132,
    "start_time": "2024-06-29T17:51:10.416Z"
   },
   {
    "duration": 142,
    "start_time": "2024-06-29T17:51:19.728Z"
   },
   {
    "duration": 393,
    "start_time": "2024-06-29T17:51:31.590Z"
   },
   {
    "duration": 297,
    "start_time": "2024-06-29T17:52:07.142Z"
   },
   {
    "duration": 631,
    "start_time": "2024-06-29T17:59:28.614Z"
   },
   {
    "duration": 69,
    "start_time": "2024-06-29T17:59:29.247Z"
   },
   {
    "duration": 12,
    "start_time": "2024-06-29T17:59:29.318Z"
   },
   {
    "duration": 29,
    "start_time": "2024-06-29T17:59:29.333Z"
   },
   {
    "duration": 12,
    "start_time": "2024-06-29T17:59:29.364Z"
   },
   {
    "duration": 10,
    "start_time": "2024-06-29T17:59:29.378Z"
   },
   {
    "duration": 17,
    "start_time": "2024-06-29T17:59:29.389Z"
   },
   {
    "duration": 33,
    "start_time": "2024-06-29T17:59:29.408Z"
   },
   {
    "duration": 25,
    "start_time": "2024-06-29T17:59:29.443Z"
   },
   {
    "duration": 18,
    "start_time": "2024-06-29T17:59:29.471Z"
   },
   {
    "duration": 9,
    "start_time": "2024-06-29T17:59:29.491Z"
   },
   {
    "duration": 9,
    "start_time": "2024-06-29T17:59:29.502Z"
   },
   {
    "duration": 19,
    "start_time": "2024-06-29T17:59:29.513Z"
   },
   {
    "duration": 10,
    "start_time": "2024-06-29T17:59:29.534Z"
   },
   {
    "duration": 5,
    "start_time": "2024-06-29T17:59:29.546Z"
   },
   {
    "duration": 30,
    "start_time": "2024-06-29T17:59:29.553Z"
   },
   {
    "duration": 12,
    "start_time": "2024-06-29T17:59:29.585Z"
   },
   {
    "duration": 5,
    "start_time": "2024-06-29T17:59:29.598Z"
   },
   {
    "duration": 8,
    "start_time": "2024-06-29T17:59:29.605Z"
   },
   {
    "duration": 7,
    "start_time": "2024-06-29T17:59:29.615Z"
   },
   {
    "duration": 212,
    "start_time": "2024-06-29T17:59:29.624Z"
   },
   {
    "duration": 166,
    "start_time": "2024-06-29T17:59:29.838Z"
   },
   {
    "duration": 9,
    "start_time": "2024-06-29T17:59:30.007Z"
   },
   {
    "duration": 431,
    "start_time": "2024-06-29T17:59:30.018Z"
   },
   {
    "duration": 1055,
    "start_time": "2024-06-29T17:59:30.452Z"
   },
   {
    "duration": 9,
    "start_time": "2024-06-29T18:00:40.766Z"
   },
   {
    "duration": 9,
    "start_time": "2024-06-29T18:06:06.546Z"
   },
   {
    "duration": 8,
    "start_time": "2024-06-29T18:06:40.189Z"
   },
   {
    "duration": 253,
    "start_time": "2024-06-29T18:11:38.382Z"
   },
   {
    "duration": 201,
    "start_time": "2024-06-29T18:11:47.978Z"
   },
   {
    "duration": 13,
    "start_time": "2024-06-29T19:40:01.647Z"
   },
   {
    "duration": 174,
    "start_time": "2024-06-29T19:42:19.696Z"
   },
   {
    "duration": 62,
    "start_time": "2024-06-29T19:45:45.545Z"
   },
   {
    "duration": 25,
    "start_time": "2024-06-29T19:55:17.261Z"
   },
   {
    "duration": 12,
    "start_time": "2024-06-29T19:56:43.741Z"
   },
   {
    "duration": 13,
    "start_time": "2024-06-29T19:56:51.240Z"
   },
   {
    "duration": 17,
    "start_time": "2024-06-29T19:58:04.587Z"
   },
   {
    "duration": 25,
    "start_time": "2024-06-29T19:58:30.021Z"
   },
   {
    "duration": 25,
    "start_time": "2024-06-29T20:01:46.619Z"
   },
   {
    "duration": 11,
    "start_time": "2024-06-29T20:03:23.191Z"
   },
   {
    "duration": 24,
    "start_time": "2024-06-29T20:03:26.573Z"
   },
   {
    "duration": 10,
    "start_time": "2024-06-29T20:04:30.286Z"
   },
   {
    "duration": 12,
    "start_time": "2024-06-29T20:05:27.434Z"
   },
   {
    "duration": 22,
    "start_time": "2024-06-29T20:05:51.182Z"
   },
   {
    "duration": 10,
    "start_time": "2024-06-29T20:08:44.645Z"
   },
   {
    "duration": 8,
    "start_time": "2024-06-29T20:08:55.137Z"
   },
   {
    "duration": 13,
    "start_time": "2024-06-29T20:08:58.362Z"
   },
   {
    "duration": 7,
    "start_time": "2024-06-29T20:10:20.681Z"
   },
   {
    "duration": 13,
    "start_time": "2024-06-29T20:10:50.703Z"
   },
   {
    "duration": 51,
    "start_time": "2024-06-30T07:56:41.620Z"
   },
   {
    "duration": 896,
    "start_time": "2024-06-30T07:56:55.459Z"
   },
   {
    "duration": 205,
    "start_time": "2024-06-30T07:56:56.357Z"
   },
   {
    "duration": 12,
    "start_time": "2024-06-30T07:56:56.564Z"
   },
   {
    "duration": 17,
    "start_time": "2024-06-30T07:56:56.578Z"
   },
   {
    "duration": 10,
    "start_time": "2024-06-30T07:56:56.597Z"
   },
   {
    "duration": 8,
    "start_time": "2024-06-30T07:56:56.609Z"
   },
   {
    "duration": 9,
    "start_time": "2024-06-30T07:56:56.619Z"
   },
   {
    "duration": 6,
    "start_time": "2024-06-30T07:56:56.629Z"
   },
   {
    "duration": 7,
    "start_time": "2024-06-30T07:56:56.637Z"
   },
   {
    "duration": 37,
    "start_time": "2024-06-30T07:56:56.646Z"
   },
   {
    "duration": 5,
    "start_time": "2024-06-30T07:56:56.684Z"
   },
   {
    "duration": 9,
    "start_time": "2024-06-30T07:56:56.690Z"
   },
   {
    "duration": 7,
    "start_time": "2024-06-30T07:56:56.701Z"
   },
   {
    "duration": 6,
    "start_time": "2024-06-30T07:56:56.710Z"
   },
   {
    "duration": 6,
    "start_time": "2024-06-30T07:56:56.718Z"
   },
   {
    "duration": 6,
    "start_time": "2024-06-30T07:56:56.726Z"
   },
   {
    "duration": 50,
    "start_time": "2024-06-30T07:56:56.734Z"
   },
   {
    "duration": 5,
    "start_time": "2024-06-30T07:56:56.786Z"
   },
   {
    "duration": 15,
    "start_time": "2024-06-30T07:56:56.792Z"
   },
   {
    "duration": 17,
    "start_time": "2024-06-30T07:56:56.808Z"
   },
   {
    "duration": 199,
    "start_time": "2024-06-30T07:56:56.827Z"
   },
   {
    "duration": 149,
    "start_time": "2024-06-30T07:56:57.027Z"
   },
   {
    "duration": 11,
    "start_time": "2024-06-30T07:56:57.177Z"
   },
   {
    "duration": 305,
    "start_time": "2024-06-30T07:56:57.189Z"
   },
   {
    "duration": 9,
    "start_time": "2024-06-30T07:56:57.496Z"
   },
   {
    "duration": 233,
    "start_time": "2024-06-30T07:56:57.506Z"
   },
   {
    "duration": 9,
    "start_time": "2024-06-30T07:56:57.741Z"
   },
   {
    "duration": 207,
    "start_time": "2024-06-30T07:56:57.753Z"
   },
   {
    "duration": 22,
    "start_time": "2024-06-30T07:56:57.962Z"
   },
   {
    "duration": 12,
    "start_time": "2024-06-30T07:56:57.986Z"
   },
   {
    "duration": 11,
    "start_time": "2024-06-30T07:56:58.000Z"
   },
   {
    "duration": 13,
    "start_time": "2024-06-30T07:56:58.012Z"
   },
   {
    "duration": 13,
    "start_time": "2024-06-30T07:56:58.027Z"
   },
   {
    "duration": 12,
    "start_time": "2024-06-30T07:56:58.041Z"
   },
   {
    "duration": 7,
    "start_time": "2024-06-30T07:56:58.082Z"
   },
   {
    "duration": 13,
    "start_time": "2024-06-30T07:56:58.090Z"
   },
   {
    "duration": 351,
    "start_time": "2024-06-30T07:56:58.104Z"
   },
   {
    "duration": 330,
    "start_time": "2024-06-30T08:01:32.400Z"
   },
   {
    "duration": 307,
    "start_time": "2024-06-30T08:05:48.826Z"
   },
   {
    "duration": 245,
    "start_time": "2024-06-30T08:07:40.762Z"
   },
   {
    "duration": 244,
    "start_time": "2024-06-30T08:10:24.520Z"
   },
   {
    "duration": 335,
    "start_time": "2024-06-30T08:10:43.043Z"
   },
   {
    "duration": 246,
    "start_time": "2024-06-30T08:14:30.633Z"
   },
   {
    "duration": 321,
    "start_time": "2024-06-30T08:16:44.129Z"
   },
   {
    "duration": 227,
    "start_time": "2024-06-30T08:17:03.943Z"
   },
   {
    "duration": 295,
    "start_time": "2024-06-30T08:17:40.872Z"
   },
   {
    "duration": 8,
    "start_time": "2024-06-30T08:20:08.706Z"
   },
   {
    "duration": 347,
    "start_time": "2024-06-30T08:21:17.214Z"
   },
   {
    "duration": 316,
    "start_time": "2024-06-30T08:22:02.696Z"
   },
   {
    "duration": 696,
    "start_time": "2024-06-30T08:22:18.992Z"
   },
   {
    "duration": 74,
    "start_time": "2024-06-30T08:22:19.690Z"
   },
   {
    "duration": 11,
    "start_time": "2024-06-30T08:22:19.765Z"
   },
   {
    "duration": 19,
    "start_time": "2024-06-30T08:22:19.778Z"
   },
   {
    "duration": 10,
    "start_time": "2024-06-30T08:22:19.799Z"
   },
   {
    "duration": 12,
    "start_time": "2024-06-30T08:22:19.810Z"
   },
   {
    "duration": 13,
    "start_time": "2024-06-30T08:22:19.823Z"
   },
   {
    "duration": 7,
    "start_time": "2024-06-30T08:22:19.838Z"
   },
   {
    "duration": 7,
    "start_time": "2024-06-30T08:22:19.846Z"
   },
   {
    "duration": 43,
    "start_time": "2024-06-30T08:22:19.856Z"
   },
   {
    "duration": 5,
    "start_time": "2024-06-30T08:22:19.900Z"
   },
   {
    "duration": 26,
    "start_time": "2024-06-30T08:22:19.906Z"
   },
   {
    "duration": 9,
    "start_time": "2024-06-30T08:22:19.934Z"
   },
   {
    "duration": 6,
    "start_time": "2024-06-30T08:22:19.944Z"
   },
   {
    "duration": 5,
    "start_time": "2024-06-30T08:22:19.952Z"
   },
   {
    "duration": 7,
    "start_time": "2024-06-30T08:22:19.958Z"
   },
   {
    "duration": 31,
    "start_time": "2024-06-30T08:22:19.966Z"
   },
   {
    "duration": 5,
    "start_time": "2024-06-30T08:22:19.998Z"
   },
   {
    "duration": 32,
    "start_time": "2024-06-30T08:22:20.004Z"
   },
   {
    "duration": 17,
    "start_time": "2024-06-30T08:22:20.038Z"
   },
   {
    "duration": 204,
    "start_time": "2024-06-30T08:22:20.057Z"
   },
   {
    "duration": 168,
    "start_time": "2024-06-30T08:22:20.262Z"
   },
   {
    "duration": 9,
    "start_time": "2024-06-30T08:22:20.431Z"
   },
   {
    "duration": 361,
    "start_time": "2024-06-30T08:22:20.441Z"
   },
   {
    "duration": 9,
    "start_time": "2024-06-30T08:22:20.804Z"
   },
   {
    "duration": 249,
    "start_time": "2024-06-30T08:22:20.814Z"
   },
   {
    "duration": 9,
    "start_time": "2024-06-30T08:22:21.064Z"
   },
   {
    "duration": 229,
    "start_time": "2024-06-30T08:22:21.075Z"
   },
   {
    "duration": 10,
    "start_time": "2024-06-30T08:22:21.306Z"
   },
   {
    "duration": 16,
    "start_time": "2024-06-30T08:22:21.317Z"
   },
   {
    "duration": 43,
    "start_time": "2024-06-30T08:22:21.334Z"
   },
   {
    "duration": 28,
    "start_time": "2024-06-30T08:22:21.379Z"
   },
   {
    "duration": 33,
    "start_time": "2024-06-30T08:22:21.409Z"
   },
   {
    "duration": 35,
    "start_time": "2024-06-30T08:22:21.443Z"
   },
   {
    "duration": 24,
    "start_time": "2024-06-30T08:22:21.480Z"
   },
   {
    "duration": 56,
    "start_time": "2024-06-30T08:22:21.506Z"
   },
   {
    "duration": 380,
    "start_time": "2024-06-30T08:22:21.564Z"
   },
   {
    "duration": 371,
    "start_time": "2024-06-30T08:23:24.459Z"
   },
   {
    "duration": 9,
    "start_time": "2024-06-30T08:27:15.484Z"
   },
   {
    "duration": 8,
    "start_time": "2024-06-30T08:27:35.081Z"
   },
   {
    "duration": 271,
    "start_time": "2024-06-30T08:45:50.151Z"
   },
   {
    "duration": 263,
    "start_time": "2024-06-30T08:48:29.567Z"
   },
   {
    "duration": 344,
    "start_time": "2024-06-30T08:51:29.366Z"
   },
   {
    "duration": 11,
    "start_time": "2024-06-30T08:53:16.906Z"
   },
   {
    "duration": 8,
    "start_time": "2024-06-30T08:53:33.605Z"
   },
   {
    "duration": 291,
    "start_time": "2024-06-30T09:39:08.601Z"
   },
   {
    "duration": 116,
    "start_time": "2024-06-30T10:39:27.577Z"
   },
   {
    "duration": 126,
    "start_time": "2024-06-30T10:40:19.547Z"
   },
   {
    "duration": 55,
    "start_time": "2024-06-30T10:40:38.658Z"
   },
   {
    "duration": 47,
    "start_time": "2024-06-30T10:41:35.261Z"
   },
   {
    "duration": 94,
    "start_time": "2024-06-30T10:41:55.012Z"
   },
   {
    "duration": 71,
    "start_time": "2024-06-30T10:42:07.038Z"
   },
   {
    "duration": 40,
    "start_time": "2024-06-30T10:43:31.347Z"
   },
   {
    "duration": 83,
    "start_time": "2024-06-30T11:00:23.378Z"
   },
   {
    "duration": 79,
    "start_time": "2024-06-30T11:02:11.375Z"
   },
   {
    "duration": 72,
    "start_time": "2024-06-30T11:02:42.643Z"
   },
   {
    "duration": 54,
    "start_time": "2024-06-30T11:02:59.631Z"
   },
   {
    "duration": 111,
    "start_time": "2024-06-30T11:03:51.022Z"
   },
   {
    "duration": 47,
    "start_time": "2024-06-30T11:06:45.576Z"
   },
   {
    "duration": 53,
    "start_time": "2024-06-30T11:11:07.022Z"
   },
   {
    "duration": 10,
    "start_time": "2024-06-30T11:11:41.640Z"
   },
   {
    "duration": 51,
    "start_time": "2024-06-30T11:12:07.946Z"
   },
   {
    "duration": 54,
    "start_time": "2024-06-30T11:13:10.495Z"
   },
   {
    "duration": 62,
    "start_time": "2024-06-30T11:13:54.530Z"
   },
   {
    "duration": 55,
    "start_time": "2024-06-30T11:14:07.940Z"
   },
   {
    "duration": 14,
    "start_time": "2024-06-30T11:14:29.047Z"
   },
   {
    "duration": 10,
    "start_time": "2024-06-30T11:14:44.086Z"
   },
   {
    "duration": 5,
    "start_time": "2024-06-30T11:15:53.028Z"
   },
   {
    "duration": 51,
    "start_time": "2024-06-30T11:16:54.582Z"
   },
   {
    "duration": 87,
    "start_time": "2024-06-30T11:17:13.211Z"
   },
   {
    "duration": 53,
    "start_time": "2024-06-30T11:17:48.826Z"
   },
   {
    "duration": 57,
    "start_time": "2024-06-30T11:18:14.540Z"
   },
   {
    "duration": 11,
    "start_time": "2024-06-30T11:19:25.861Z"
   },
   {
    "duration": 36,
    "start_time": "2024-06-30T11:19:43.108Z"
   },
   {
    "duration": 703,
    "start_time": "2024-06-30T11:19:54.421Z"
   },
   {
    "duration": 71,
    "start_time": "2024-06-30T11:19:55.126Z"
   },
   {
    "duration": 12,
    "start_time": "2024-06-30T11:19:55.198Z"
   },
   {
    "duration": 17,
    "start_time": "2024-06-30T11:19:55.213Z"
   },
   {
    "duration": 12,
    "start_time": "2024-06-30T11:19:55.232Z"
   },
   {
    "duration": 16,
    "start_time": "2024-06-30T11:19:55.246Z"
   },
   {
    "duration": 21,
    "start_time": "2024-06-30T11:19:55.264Z"
   },
   {
    "duration": 19,
    "start_time": "2024-06-30T11:19:55.287Z"
   },
   {
    "duration": 9,
    "start_time": "2024-06-30T11:19:55.308Z"
   },
   {
    "duration": 10,
    "start_time": "2024-06-30T11:19:55.320Z"
   },
   {
    "duration": 4,
    "start_time": "2024-06-30T11:19:55.332Z"
   },
   {
    "duration": 9,
    "start_time": "2024-06-30T11:19:55.338Z"
   },
   {
    "duration": 14,
    "start_time": "2024-06-30T11:19:55.348Z"
   },
   {
    "duration": 7,
    "start_time": "2024-06-30T11:19:55.382Z"
   },
   {
    "duration": 5,
    "start_time": "2024-06-30T11:19:55.391Z"
   },
   {
    "duration": 9,
    "start_time": "2024-06-30T11:19:55.398Z"
   },
   {
    "duration": 9,
    "start_time": "2024-06-30T11:19:55.408Z"
   },
   {
    "duration": 6,
    "start_time": "2024-06-30T11:19:55.418Z"
   },
   {
    "duration": 8,
    "start_time": "2024-06-30T11:19:55.425Z"
   },
   {
    "duration": 7,
    "start_time": "2024-06-30T11:19:55.434Z"
   },
   {
    "duration": 237,
    "start_time": "2024-06-30T11:19:55.442Z"
   },
   {
    "duration": 167,
    "start_time": "2024-06-30T11:19:55.681Z"
   },
   {
    "duration": 8,
    "start_time": "2024-06-30T11:19:55.850Z"
   },
   {
    "duration": 320,
    "start_time": "2024-06-30T11:19:55.859Z"
   },
   {
    "duration": 9,
    "start_time": "2024-06-30T11:19:56.180Z"
   },
   {
    "duration": 248,
    "start_time": "2024-06-30T11:19:56.191Z"
   },
   {
    "duration": 9,
    "start_time": "2024-06-30T11:19:56.442Z"
   },
   {
    "duration": 197,
    "start_time": "2024-06-30T11:19:56.454Z"
   },
   {
    "duration": 10,
    "start_time": "2024-06-30T11:19:56.653Z"
   },
   {
    "duration": 38,
    "start_time": "2024-06-30T11:19:56.665Z"
   },
   {
    "duration": 33,
    "start_time": "2024-06-30T11:19:56.705Z"
   },
   {
    "duration": 24,
    "start_time": "2024-06-30T11:19:56.740Z"
   },
   {
    "duration": 11,
    "start_time": "2024-06-30T11:19:56.766Z"
   },
   {
    "duration": 22,
    "start_time": "2024-06-30T11:19:56.779Z"
   },
   {
    "duration": 15,
    "start_time": "2024-06-30T11:19:56.803Z"
   },
   {
    "duration": 23,
    "start_time": "2024-06-30T11:19:56.821Z"
   },
   {
    "duration": 329,
    "start_time": "2024-06-30T11:19:56.846Z"
   },
   {
    "duration": 11,
    "start_time": "2024-06-30T11:19:57.181Z"
   },
   {
    "duration": 10,
    "start_time": "2024-06-30T11:19:57.194Z"
   },
   {
    "duration": 291,
    "start_time": "2024-06-30T11:19:57.205Z"
   },
   {
    "duration": 10,
    "start_time": "2024-06-30T11:19:57.498Z"
   },
   {
    "duration": 14,
    "start_time": "2024-06-30T11:19:57.509Z"
   },
   {
    "duration": 50,
    "start_time": "2024-06-30T11:19:57.524Z"
   },
   {
    "duration": 0,
    "start_time": "2024-06-30T11:19:57.575Z"
   },
   {
    "duration": 0,
    "start_time": "2024-06-30T11:19:57.576Z"
   },
   {
    "duration": 63,
    "start_time": "2024-06-30T11:20:11.607Z"
   },
   {
    "duration": 40,
    "start_time": "2024-06-30T11:20:21.955Z"
   },
   {
    "duration": 23,
    "start_time": "2024-06-30T12:00:24.673Z"
   },
   {
    "duration": 12,
    "start_time": "2024-06-30T12:00:36.524Z"
   },
   {
    "duration": 1300,
    "start_time": "2024-06-30T12:20:38.329Z"
   },
   {
    "duration": 11,
    "start_time": "2024-06-30T12:28:02.180Z"
   },
   {
    "duration": 11,
    "start_time": "2024-06-30T12:29:23.525Z"
   },
   {
    "duration": 10,
    "start_time": "2024-06-30T12:31:05.656Z"
   },
   {
    "duration": 10,
    "start_time": "2024-06-30T12:31:36.143Z"
   },
   {
    "duration": 57,
    "start_time": "2024-06-30T12:32:53.363Z"
   },
   {
    "duration": 11,
    "start_time": "2024-06-30T12:33:31.080Z"
   },
   {
    "duration": 40,
    "start_time": "2024-06-30T12:34:29.477Z"
   },
   {
    "duration": 35,
    "start_time": "2024-06-30T12:34:45.209Z"
   },
   {
    "duration": 635,
    "start_time": "2024-06-30T12:35:05.636Z"
   },
   {
    "duration": 68,
    "start_time": "2024-06-30T12:35:06.273Z"
   },
   {
    "duration": 12,
    "start_time": "2024-06-30T12:35:06.343Z"
   },
   {
    "duration": 31,
    "start_time": "2024-06-30T12:35:06.357Z"
   },
   {
    "duration": 11,
    "start_time": "2024-06-30T12:35:06.390Z"
   },
   {
    "duration": 9,
    "start_time": "2024-06-30T12:35:06.402Z"
   },
   {
    "duration": 16,
    "start_time": "2024-06-30T12:35:06.413Z"
   },
   {
    "duration": 20,
    "start_time": "2024-06-30T12:35:06.431Z"
   },
   {
    "duration": 8,
    "start_time": "2024-06-30T12:35:06.453Z"
   },
   {
    "duration": 12,
    "start_time": "2024-06-30T12:35:06.481Z"
   },
   {
    "duration": 6,
    "start_time": "2024-06-30T12:35:06.495Z"
   },
   {
    "duration": 16,
    "start_time": "2024-06-30T12:35:06.502Z"
   },
   {
    "duration": 12,
    "start_time": "2024-06-30T12:35:06.520Z"
   },
   {
    "duration": 7,
    "start_time": "2024-06-30T12:35:06.533Z"
   },
   {
    "duration": 10,
    "start_time": "2024-06-30T12:35:06.542Z"
   },
   {
    "duration": 7,
    "start_time": "2024-06-30T12:35:06.581Z"
   },
   {
    "duration": 14,
    "start_time": "2024-06-30T12:35:06.590Z"
   },
   {
    "duration": 18,
    "start_time": "2024-06-30T12:35:06.606Z"
   },
   {
    "duration": 11,
    "start_time": "2024-06-30T12:35:06.626Z"
   },
   {
    "duration": 6,
    "start_time": "2024-06-30T12:35:06.638Z"
   },
   {
    "duration": 205,
    "start_time": "2024-06-30T12:35:06.645Z"
   },
   {
    "duration": 161,
    "start_time": "2024-06-30T12:35:06.852Z"
   },
   {
    "duration": 8,
    "start_time": "2024-06-30T12:35:07.015Z"
   },
   {
    "duration": 303,
    "start_time": "2024-06-30T12:35:07.025Z"
   },
   {
    "duration": 10,
    "start_time": "2024-06-30T12:35:07.330Z"
   },
   {
    "duration": 240,
    "start_time": "2024-06-30T12:35:07.342Z"
   },
   {
    "duration": 8,
    "start_time": "2024-06-30T12:35:07.584Z"
   },
   {
    "duration": 211,
    "start_time": "2024-06-30T12:35:07.596Z"
   },
   {
    "duration": 15,
    "start_time": "2024-06-30T12:35:07.809Z"
   },
   {
    "duration": 16,
    "start_time": "2024-06-30T12:35:07.825Z"
   },
   {
    "duration": 15,
    "start_time": "2024-06-30T12:35:07.843Z"
   },
   {
    "duration": 37,
    "start_time": "2024-06-30T12:35:07.860Z"
   },
   {
    "duration": 10,
    "start_time": "2024-06-30T12:35:07.898Z"
   },
   {
    "duration": 15,
    "start_time": "2024-06-30T12:35:07.909Z"
   },
   {
    "duration": 10,
    "start_time": "2024-06-30T12:35:07.926Z"
   },
   {
    "duration": 14,
    "start_time": "2024-06-30T12:35:07.938Z"
   },
   {
    "duration": 340,
    "start_time": "2024-06-30T12:35:07.954Z"
   },
   {
    "duration": 7,
    "start_time": "2024-06-30T12:35:08.296Z"
   },
   {
    "duration": 91,
    "start_time": "2024-06-30T12:35:08.305Z"
   },
   {
    "duration": 255,
    "start_time": "2024-06-30T12:35:08.397Z"
   },
   {
    "duration": 9,
    "start_time": "2024-06-30T12:35:08.654Z"
   },
   {
    "duration": 18,
    "start_time": "2024-06-30T12:35:08.664Z"
   },
   {
    "duration": 39,
    "start_time": "2024-06-30T12:35:08.684Z"
   },
   {
    "duration": 12,
    "start_time": "2024-06-30T12:35:08.725Z"
   },
   {
    "duration": 1087,
    "start_time": "2024-06-30T12:35:08.739Z"
   },
   {
    "duration": 8,
    "start_time": "2024-06-30T12:37:34.572Z"
   },
   {
    "duration": 8,
    "start_time": "2024-06-30T12:38:23.557Z"
   },
   {
    "duration": 3,
    "start_time": "2024-06-30T12:39:00.704Z"
   },
   {
    "duration": 3,
    "start_time": "2024-06-30T12:39:11.300Z"
   },
   {
    "duration": 11,
    "start_time": "2024-06-30T12:39:13.269Z"
   },
   {
    "duration": 747,
    "start_time": "2024-06-30T12:43:00.561Z"
   },
   {
    "duration": 69,
    "start_time": "2024-06-30T12:43:01.311Z"
   },
   {
    "duration": 17,
    "start_time": "2024-06-30T12:43:01.382Z"
   },
   {
    "duration": 161,
    "start_time": "2024-06-30T12:43:01.401Z"
   },
   {
    "duration": 48,
    "start_time": "2024-06-30T12:43:01.564Z"
   },
   {
    "duration": 38,
    "start_time": "2024-06-30T12:43:01.613Z"
   },
   {
    "duration": 111,
    "start_time": "2024-06-30T12:43:01.653Z"
   },
   {
    "duration": 61,
    "start_time": "2024-06-30T12:43:01.766Z"
   },
   {
    "duration": 41,
    "start_time": "2024-06-30T12:43:01.829Z"
   },
   {
    "duration": 70,
    "start_time": "2024-06-30T12:43:01.873Z"
   },
   {
    "duration": 22,
    "start_time": "2024-06-30T12:43:01.944Z"
   },
   {
    "duration": 61,
    "start_time": "2024-06-30T12:43:01.968Z"
   },
   {
    "duration": 23,
    "start_time": "2024-06-30T12:43:02.030Z"
   },
   {
    "duration": 32,
    "start_time": "2024-06-30T12:43:02.055Z"
   },
   {
    "duration": 33,
    "start_time": "2024-06-30T12:43:02.088Z"
   },
   {
    "duration": 12,
    "start_time": "2024-06-30T12:43:02.122Z"
   },
   {
    "duration": 31,
    "start_time": "2024-06-30T12:43:02.135Z"
   },
   {
    "duration": 9,
    "start_time": "2024-06-30T12:43:02.167Z"
   },
   {
    "duration": 26,
    "start_time": "2024-06-30T12:43:02.178Z"
   },
   {
    "duration": 22,
    "start_time": "2024-06-30T12:43:02.205Z"
   },
   {
    "duration": 195,
    "start_time": "2024-06-30T12:43:02.228Z"
   },
   {
    "duration": 167,
    "start_time": "2024-06-30T12:43:02.424Z"
   },
   {
    "duration": 8,
    "start_time": "2024-06-30T12:43:02.593Z"
   },
   {
    "duration": 324,
    "start_time": "2024-06-30T12:43:02.602Z"
   },
   {
    "duration": 8,
    "start_time": "2024-06-30T12:43:02.928Z"
   },
   {
    "duration": 253,
    "start_time": "2024-06-30T12:43:02.938Z"
   },
   {
    "duration": 10,
    "start_time": "2024-06-30T12:43:03.193Z"
   },
   {
    "duration": 191,
    "start_time": "2024-06-30T12:43:03.207Z"
   },
   {
    "duration": 10,
    "start_time": "2024-06-30T12:43:03.400Z"
   },
   {
    "duration": 13,
    "start_time": "2024-06-30T12:43:03.412Z"
   },
   {
    "duration": 10,
    "start_time": "2024-06-30T12:43:03.427Z"
   },
   {
    "duration": 12,
    "start_time": "2024-06-30T12:43:03.439Z"
   },
   {
    "duration": 21,
    "start_time": "2024-06-30T12:43:03.483Z"
   },
   {
    "duration": 19,
    "start_time": "2024-06-30T12:43:03.506Z"
   },
   {
    "duration": 11,
    "start_time": "2024-06-30T12:43:03.526Z"
   },
   {
    "duration": 21,
    "start_time": "2024-06-30T12:43:03.539Z"
   },
   {
    "duration": 329,
    "start_time": "2024-06-30T12:43:03.562Z"
   },
   {
    "duration": 9,
    "start_time": "2024-06-30T12:43:03.893Z"
   },
   {
    "duration": 8,
    "start_time": "2024-06-30T12:43:03.904Z"
   },
   {
    "duration": 285,
    "start_time": "2024-06-30T12:43:03.913Z"
   },
   {
    "duration": 9,
    "start_time": "2024-06-30T12:43:04.199Z"
   },
   {
    "duration": 11,
    "start_time": "2024-06-30T12:43:04.210Z"
   },
   {
    "duration": 36,
    "start_time": "2024-06-30T12:43:04.223Z"
   },
   {
    "duration": 21,
    "start_time": "2024-06-30T12:43:04.261Z"
   },
   {
    "duration": 16,
    "start_time": "2024-06-30T12:43:04.284Z"
   },
   {
    "duration": 24,
    "start_time": "2024-06-30T12:43:04.302Z"
   },
   {
    "duration": 85,
    "start_time": "2024-06-30T12:43:04.327Z"
   },
   {
    "duration": 4,
    "start_time": "2024-06-30T12:44:44.504Z"
   },
   {
    "duration": 10,
    "start_time": "2024-06-30T12:44:59.698Z"
   },
   {
    "duration": 5,
    "start_time": "2024-06-30T12:46:16.270Z"
   },
   {
    "duration": 53,
    "start_time": "2024-06-30T13:39:12.169Z"
   },
   {
    "duration": 54,
    "start_time": "2024-06-30T13:39:57.458Z"
   },
   {
    "duration": 90,
    "start_time": "2024-06-30T13:40:40.008Z"
   },
   {
    "duration": 471,
    "start_time": "2024-06-30T13:41:11.611Z"
   },
   {
    "duration": 4,
    "start_time": "2024-06-30T13:51:01.572Z"
   },
   {
    "duration": 5,
    "start_time": "2024-06-30T14:59:32.348Z"
   },
   {
    "duration": 51,
    "start_time": "2024-06-30T15:00:06.850Z"
   },
   {
    "duration": 9,
    "start_time": "2024-06-30T15:00:21.972Z"
   },
   {
    "duration": 846,
    "start_time": "2024-06-30T15:01:22.182Z"
   },
   {
    "duration": 8,
    "start_time": "2024-06-30T15:02:08.997Z"
   },
   {
    "duration": 69,
    "start_time": "2024-06-30T16:40:01.077Z"
   },
   {
    "duration": 657,
    "start_time": "2024-06-30T16:56:13.128Z"
   },
   {
    "duration": 82,
    "start_time": "2024-06-30T16:56:13.787Z"
   },
   {
    "duration": 17,
    "start_time": "2024-06-30T16:56:13.870Z"
   },
   {
    "duration": 18,
    "start_time": "2024-06-30T16:56:13.889Z"
   },
   {
    "duration": 36,
    "start_time": "2024-06-30T16:56:13.910Z"
   },
   {
    "duration": 24,
    "start_time": "2024-06-30T16:56:13.948Z"
   },
   {
    "duration": 27,
    "start_time": "2024-06-30T16:56:13.974Z"
   },
   {
    "duration": 23,
    "start_time": "2024-06-30T16:56:14.003Z"
   },
   {
    "duration": 21,
    "start_time": "2024-06-30T16:56:14.028Z"
   },
   {
    "duration": 26,
    "start_time": "2024-06-30T16:56:14.053Z"
   },
   {
    "duration": 23,
    "start_time": "2024-06-30T16:56:14.081Z"
   },
   {
    "duration": 11,
    "start_time": "2024-06-30T16:56:14.105Z"
   },
   {
    "duration": 20,
    "start_time": "2024-06-30T16:56:14.118Z"
   },
   {
    "duration": 15,
    "start_time": "2024-06-30T16:56:14.140Z"
   },
   {
    "duration": 15,
    "start_time": "2024-06-30T16:56:14.157Z"
   },
   {
    "duration": 17,
    "start_time": "2024-06-30T16:56:14.173Z"
   },
   {
    "duration": 14,
    "start_time": "2024-06-30T16:56:14.192Z"
   },
   {
    "duration": 5,
    "start_time": "2024-06-30T16:56:14.208Z"
   },
   {
    "duration": 20,
    "start_time": "2024-06-30T16:56:14.214Z"
   },
   {
    "duration": 14,
    "start_time": "2024-06-30T16:56:14.235Z"
   },
   {
    "duration": 219,
    "start_time": "2024-06-30T16:56:14.251Z"
   },
   {
    "duration": 168,
    "start_time": "2024-06-30T16:56:14.472Z"
   },
   {
    "duration": 12,
    "start_time": "2024-06-30T16:56:14.643Z"
   },
   {
    "duration": 328,
    "start_time": "2024-06-30T16:56:14.657Z"
   },
   {
    "duration": 11,
    "start_time": "2024-06-30T16:56:14.986Z"
   },
   {
    "duration": 299,
    "start_time": "2024-06-30T16:56:14.998Z"
   },
   {
    "duration": 11,
    "start_time": "2024-06-30T16:56:15.299Z"
   },
   {
    "duration": 237,
    "start_time": "2024-06-30T16:56:15.314Z"
   },
   {
    "duration": 13,
    "start_time": "2024-06-30T16:56:15.553Z"
   },
   {
    "duration": 26,
    "start_time": "2024-06-30T16:56:15.568Z"
   },
   {
    "duration": 15,
    "start_time": "2024-06-30T16:56:15.596Z"
   },
   {
    "duration": 13,
    "start_time": "2024-06-30T16:56:15.613Z"
   },
   {
    "duration": 22,
    "start_time": "2024-06-30T16:56:15.628Z"
   },
   {
    "duration": 13,
    "start_time": "2024-06-30T16:56:15.651Z"
   },
   {
    "duration": 17,
    "start_time": "2024-06-30T16:56:15.667Z"
   },
   {
    "duration": 17,
    "start_time": "2024-06-30T16:56:15.686Z"
   },
   {
    "duration": 391,
    "start_time": "2024-06-30T16:56:15.705Z"
   },
   {
    "duration": 8,
    "start_time": "2024-06-30T16:56:16.098Z"
   },
   {
    "duration": 25,
    "start_time": "2024-06-30T16:56:16.108Z"
   },
   {
    "duration": 278,
    "start_time": "2024-06-30T16:56:16.135Z"
   },
   {
    "duration": 10,
    "start_time": "2024-06-30T16:56:16.415Z"
   },
   {
    "duration": 9,
    "start_time": "2024-06-30T16:56:16.426Z"
   },
   {
    "duration": 67,
    "start_time": "2024-06-30T16:56:16.436Z"
   },
   {
    "duration": 2,
    "start_time": "2024-06-30T16:56:16.505Z"
   },
   {
    "duration": 16,
    "start_time": "2024-06-30T16:56:16.509Z"
   },
   {
    "duration": 5,
    "start_time": "2024-06-30T16:56:16.527Z"
   },
   {
    "duration": 5,
    "start_time": "2024-06-30T16:56:16.533Z"
   },
   {
    "duration": 42,
    "start_time": "2024-06-30T16:56:16.540Z"
   },
   {
    "duration": 6,
    "start_time": "2024-06-30T16:56:16.584Z"
   },
   {
    "duration": 54,
    "start_time": "2024-06-30T16:56:16.591Z"
   },
   {
    "duration": 0,
    "start_time": "2024-06-30T16:56:16.647Z"
   },
   {
    "duration": 0,
    "start_time": "2024-06-30T16:56:16.649Z"
   },
   {
    "duration": 0,
    "start_time": "2024-06-30T16:56:16.651Z"
   },
   {
    "duration": 0,
    "start_time": "2024-06-30T16:56:16.652Z"
   },
   {
    "duration": 90,
    "start_time": "2024-06-30T16:57:39.007Z"
   },
   {
    "duration": 8,
    "start_time": "2024-06-30T16:57:59.238Z"
   },
   {
    "duration": 9,
    "start_time": "2024-06-30T16:58:25.682Z"
   },
   {
    "duration": 592,
    "start_time": "2024-06-30T17:00:04.381Z"
   },
   {
    "duration": 7,
    "start_time": "2024-06-30T17:00:13.810Z"
   },
   {
    "duration": 740,
    "start_time": "2024-06-30T17:00:23.942Z"
   },
   {
    "duration": 76,
    "start_time": "2024-06-30T17:00:24.684Z"
   },
   {
    "duration": 14,
    "start_time": "2024-06-30T17:00:24.762Z"
   },
   {
    "duration": 39,
    "start_time": "2024-06-30T17:00:24.779Z"
   },
   {
    "duration": 22,
    "start_time": "2024-06-30T17:00:24.820Z"
   },
   {
    "duration": 25,
    "start_time": "2024-06-30T17:00:24.844Z"
   },
   {
    "duration": 31,
    "start_time": "2024-06-30T17:00:24.871Z"
   },
   {
    "duration": 22,
    "start_time": "2024-06-30T17:00:24.904Z"
   },
   {
    "duration": 32,
    "start_time": "2024-06-30T17:00:24.927Z"
   },
   {
    "duration": 34,
    "start_time": "2024-06-30T17:00:24.962Z"
   },
   {
    "duration": 28,
    "start_time": "2024-06-30T17:00:24.998Z"
   },
   {
    "duration": 33,
    "start_time": "2024-06-30T17:00:25.028Z"
   },
   {
    "duration": 11,
    "start_time": "2024-06-30T17:00:25.063Z"
   },
   {
    "duration": 19,
    "start_time": "2024-06-30T17:00:25.076Z"
   },
   {
    "duration": 19,
    "start_time": "2024-06-30T17:00:25.096Z"
   },
   {
    "duration": 20,
    "start_time": "2024-06-30T17:00:25.116Z"
   },
   {
    "duration": 70,
    "start_time": "2024-06-30T17:00:25.139Z"
   },
   {
    "duration": 16,
    "start_time": "2024-06-30T17:00:25.211Z"
   },
   {
    "duration": 23,
    "start_time": "2024-06-30T17:00:25.229Z"
   },
   {
    "duration": 36,
    "start_time": "2024-06-30T17:00:25.254Z"
   },
   {
    "duration": 205,
    "start_time": "2024-06-30T17:00:25.291Z"
   },
   {
    "duration": 161,
    "start_time": "2024-06-30T17:00:25.498Z"
   },
   {
    "duration": 7,
    "start_time": "2024-06-30T17:00:25.661Z"
   },
   {
    "duration": 352,
    "start_time": "2024-06-30T17:00:25.670Z"
   },
   {
    "duration": 10,
    "start_time": "2024-06-30T17:00:26.024Z"
   },
   {
    "duration": 264,
    "start_time": "2024-06-30T17:00:26.036Z"
   },
   {
    "duration": 10,
    "start_time": "2024-06-30T17:00:26.302Z"
   },
   {
    "duration": 205,
    "start_time": "2024-06-30T17:00:26.315Z"
   },
   {
    "duration": 14,
    "start_time": "2024-06-30T17:00:26.522Z"
   },
   {
    "duration": 15,
    "start_time": "2024-06-30T17:00:26.538Z"
   },
   {
    "duration": 31,
    "start_time": "2024-06-30T17:00:26.555Z"
   },
   {
    "duration": 13,
    "start_time": "2024-06-30T17:00:26.588Z"
   },
   {
    "duration": 10,
    "start_time": "2024-06-30T17:00:26.603Z"
   },
   {
    "duration": 13,
    "start_time": "2024-06-30T17:00:26.615Z"
   },
   {
    "duration": 7,
    "start_time": "2024-06-30T17:00:26.630Z"
   },
   {
    "duration": 45,
    "start_time": "2024-06-30T17:00:26.639Z"
   },
   {
    "duration": 339,
    "start_time": "2024-06-30T17:00:26.686Z"
   },
   {
    "duration": 8,
    "start_time": "2024-06-30T17:00:27.027Z"
   },
   {
    "duration": 8,
    "start_time": "2024-06-30T17:00:27.037Z"
   },
   {
    "duration": 313,
    "start_time": "2024-06-30T17:00:27.047Z"
   },
   {
    "duration": 8,
    "start_time": "2024-06-30T17:00:27.362Z"
   },
   {
    "duration": 18,
    "start_time": "2024-06-30T17:00:27.371Z"
   },
   {
    "duration": 46,
    "start_time": "2024-06-30T17:00:27.391Z"
   },
   {
    "duration": 3,
    "start_time": "2024-06-30T17:00:27.439Z"
   },
   {
    "duration": 20,
    "start_time": "2024-06-30T17:00:27.443Z"
   },
   {
    "duration": 20,
    "start_time": "2024-06-30T17:00:27.464Z"
   },
   {
    "duration": 14,
    "start_time": "2024-06-30T17:00:27.485Z"
   },
   {
    "duration": 19,
    "start_time": "2024-06-30T17:00:27.501Z"
   },
   {
    "duration": 5,
    "start_time": "2024-06-30T17:00:27.521Z"
   },
   {
    "duration": 557,
    "start_time": "2024-06-30T17:00:27.528Z"
   },
   {
    "duration": 6,
    "start_time": "2024-06-30T17:00:28.086Z"
   },
   {
    "duration": 47,
    "start_time": "2024-06-30T17:00:28.094Z"
   },
   {
    "duration": 0,
    "start_time": "2024-06-30T17:00:28.143Z"
   },
   {
    "duration": 9,
    "start_time": "2024-06-30T17:00:50.172Z"
   },
   {
    "duration": 768,
    "start_time": "2024-06-30T17:01:04.415Z"
   },
   {
    "duration": 70,
    "start_time": "2024-06-30T17:01:05.186Z"
   },
   {
    "duration": 11,
    "start_time": "2024-06-30T17:01:05.258Z"
   },
   {
    "duration": 22,
    "start_time": "2024-06-30T17:01:05.271Z"
   },
   {
    "duration": 26,
    "start_time": "2024-06-30T17:01:05.294Z"
   },
   {
    "duration": 9,
    "start_time": "2024-06-30T17:01:05.322Z"
   },
   {
    "duration": 16,
    "start_time": "2024-06-30T17:01:05.332Z"
   },
   {
    "duration": 7,
    "start_time": "2024-06-30T17:01:05.350Z"
   },
   {
    "duration": 8,
    "start_time": "2024-06-30T17:01:05.359Z"
   },
   {
    "duration": 11,
    "start_time": "2024-06-30T17:01:05.381Z"
   },
   {
    "duration": 5,
    "start_time": "2024-06-30T17:01:05.394Z"
   },
   {
    "duration": 18,
    "start_time": "2024-06-30T17:01:05.401Z"
   },
   {
    "duration": 10,
    "start_time": "2024-06-30T17:01:05.421Z"
   },
   {
    "duration": 15,
    "start_time": "2024-06-30T17:01:05.432Z"
   },
   {
    "duration": 11,
    "start_time": "2024-06-30T17:01:05.448Z"
   },
   {
    "duration": 27,
    "start_time": "2024-06-30T17:01:05.460Z"
   },
   {
    "duration": 13,
    "start_time": "2024-06-30T17:01:05.489Z"
   },
   {
    "duration": 7,
    "start_time": "2024-06-30T17:01:05.506Z"
   },
   {
    "duration": 11,
    "start_time": "2024-06-30T17:01:05.515Z"
   },
   {
    "duration": 7,
    "start_time": "2024-06-30T17:01:05.528Z"
   },
   {
    "duration": 237,
    "start_time": "2024-06-30T17:01:05.537Z"
   },
   {
    "duration": 193,
    "start_time": "2024-06-30T17:01:05.781Z"
   },
   {
    "duration": 15,
    "start_time": "2024-06-30T17:01:05.976Z"
   },
   {
    "duration": 377,
    "start_time": "2024-06-30T17:01:05.994Z"
   },
   {
    "duration": 42,
    "start_time": "2024-06-30T17:01:06.373Z"
   },
   {
    "duration": 257,
    "start_time": "2024-06-30T17:01:06.418Z"
   },
   {
    "duration": 12,
    "start_time": "2024-06-30T17:01:06.676Z"
   },
   {
    "duration": 216,
    "start_time": "2024-06-30T17:01:06.693Z"
   },
   {
    "duration": 12,
    "start_time": "2024-06-30T17:01:06.910Z"
   },
   {
    "duration": 13,
    "start_time": "2024-06-30T17:01:06.924Z"
   },
   {
    "duration": 19,
    "start_time": "2024-06-30T17:01:06.939Z"
   },
   {
    "duration": 30,
    "start_time": "2024-06-30T17:01:06.960Z"
   },
   {
    "duration": 16,
    "start_time": "2024-06-30T17:01:06.992Z"
   },
   {
    "duration": 17,
    "start_time": "2024-06-30T17:01:07.010Z"
   },
   {
    "duration": 14,
    "start_time": "2024-06-30T17:01:07.029Z"
   },
   {
    "duration": 22,
    "start_time": "2024-06-30T17:01:07.045Z"
   },
   {
    "duration": 357,
    "start_time": "2024-06-30T17:01:07.068Z"
   },
   {
    "duration": 13,
    "start_time": "2024-06-30T17:01:07.427Z"
   },
   {
    "duration": 53,
    "start_time": "2024-06-30T17:01:07.442Z"
   },
   {
    "duration": 317,
    "start_time": "2024-06-30T17:01:07.497Z"
   },
   {
    "duration": 11,
    "start_time": "2024-06-30T17:01:07.816Z"
   },
   {
    "duration": 9,
    "start_time": "2024-06-30T17:01:07.830Z"
   },
   {
    "duration": 74,
    "start_time": "2024-06-30T17:01:07.841Z"
   },
   {
    "duration": 5,
    "start_time": "2024-06-30T17:01:07.918Z"
   },
   {
    "duration": 26,
    "start_time": "2024-06-30T17:01:07.924Z"
   },
   {
    "duration": 7,
    "start_time": "2024-06-30T17:01:07.951Z"
   },
   {
    "duration": 7,
    "start_time": "2024-06-30T17:01:07.960Z"
   },
   {
    "duration": 25,
    "start_time": "2024-06-30T17:01:07.969Z"
   },
   {
    "duration": 19,
    "start_time": "2024-06-30T17:01:07.996Z"
   },
   {
    "duration": 572,
    "start_time": "2024-06-30T17:01:08.018Z"
   },
   {
    "duration": 6,
    "start_time": "2024-06-30T17:01:08.592Z"
   },
   {
    "duration": 24,
    "start_time": "2024-06-30T17:01:08.600Z"
   },
   {
    "duration": 656,
    "start_time": "2024-06-30T17:02:03.118Z"
   },
   {
    "duration": 77,
    "start_time": "2024-06-30T17:02:03.776Z"
   },
   {
    "duration": 15,
    "start_time": "2024-06-30T17:02:03.855Z"
   },
   {
    "duration": 32,
    "start_time": "2024-06-30T17:02:03.872Z"
   },
   {
    "duration": 12,
    "start_time": "2024-06-30T17:02:03.906Z"
   },
   {
    "duration": 13,
    "start_time": "2024-06-30T17:02:03.919Z"
   },
   {
    "duration": 22,
    "start_time": "2024-06-30T17:02:03.935Z"
   },
   {
    "duration": 11,
    "start_time": "2024-06-30T17:02:03.959Z"
   },
   {
    "duration": 19,
    "start_time": "2024-06-30T17:02:03.972Z"
   },
   {
    "duration": 14,
    "start_time": "2024-06-30T17:02:03.995Z"
   },
   {
    "duration": 16,
    "start_time": "2024-06-30T17:02:04.011Z"
   },
   {
    "duration": 23,
    "start_time": "2024-06-30T17:02:04.030Z"
   },
   {
    "duration": 38,
    "start_time": "2024-06-30T17:02:04.055Z"
   },
   {
    "duration": 13,
    "start_time": "2024-06-30T17:02:04.095Z"
   },
   {
    "duration": 26,
    "start_time": "2024-06-30T17:02:04.109Z"
   },
   {
    "duration": 18,
    "start_time": "2024-06-30T17:02:04.136Z"
   },
   {
    "duration": 12,
    "start_time": "2024-06-30T17:02:04.156Z"
   },
   {
    "duration": 19,
    "start_time": "2024-06-30T17:02:04.169Z"
   },
   {
    "duration": 5,
    "start_time": "2024-06-30T17:02:04.190Z"
   },
   {
    "duration": 11,
    "start_time": "2024-06-30T17:02:04.196Z"
   },
   {
    "duration": 208,
    "start_time": "2024-06-30T17:02:04.209Z"
   },
   {
    "duration": 166,
    "start_time": "2024-06-30T17:02:04.418Z"
   },
   {
    "duration": 9,
    "start_time": "2024-06-30T17:02:04.586Z"
   },
   {
    "duration": 316,
    "start_time": "2024-06-30T17:02:04.596Z"
   },
   {
    "duration": 9,
    "start_time": "2024-06-30T17:02:04.914Z"
   },
   {
    "duration": 268,
    "start_time": "2024-06-30T17:02:04.924Z"
   },
   {
    "duration": 8,
    "start_time": "2024-06-30T17:02:05.194Z"
   },
   {
    "duration": 210,
    "start_time": "2024-06-30T17:02:05.206Z"
   },
   {
    "duration": 11,
    "start_time": "2024-06-30T17:02:05.417Z"
   },
   {
    "duration": 11,
    "start_time": "2024-06-30T17:02:05.430Z"
   },
   {
    "duration": 22,
    "start_time": "2024-06-30T17:02:05.443Z"
   },
   {
    "duration": 27,
    "start_time": "2024-06-30T17:02:05.466Z"
   },
   {
    "duration": 10,
    "start_time": "2024-06-30T17:02:05.494Z"
   },
   {
    "duration": 18,
    "start_time": "2024-06-30T17:02:05.506Z"
   },
   {
    "duration": 9,
    "start_time": "2024-06-30T17:02:05.526Z"
   },
   {
    "duration": 29,
    "start_time": "2024-06-30T17:02:05.536Z"
   },
   {
    "duration": 359,
    "start_time": "2024-06-30T17:02:05.566Z"
   },
   {
    "duration": 9,
    "start_time": "2024-06-30T17:02:05.926Z"
   },
   {
    "duration": 22,
    "start_time": "2024-06-30T17:02:05.937Z"
   },
   {
    "duration": 279,
    "start_time": "2024-06-30T17:02:05.960Z"
   },
   {
    "duration": 8,
    "start_time": "2024-06-30T17:02:06.241Z"
   },
   {
    "duration": 11,
    "start_time": "2024-06-30T17:02:06.251Z"
   },
   {
    "duration": 48,
    "start_time": "2024-06-30T17:02:06.263Z"
   },
   {
    "duration": 3,
    "start_time": "2024-06-30T17:02:06.313Z"
   },
   {
    "duration": 11,
    "start_time": "2024-06-30T17:02:06.317Z"
   },
   {
    "duration": 4,
    "start_time": "2024-06-30T17:02:06.330Z"
   },
   {
    "duration": 5,
    "start_time": "2024-06-30T17:02:06.335Z"
   },
   {
    "duration": 11,
    "start_time": "2024-06-30T17:02:06.342Z"
   },
   {
    "duration": 5,
    "start_time": "2024-06-30T17:02:06.381Z"
   },
   {
    "duration": 522,
    "start_time": "2024-06-30T17:02:06.388Z"
   },
   {
    "duration": 6,
    "start_time": "2024-06-30T17:02:06.912Z"
   },
   {
    "duration": 10,
    "start_time": "2024-06-30T17:02:06.919Z"
   },
   {
    "duration": 50,
    "start_time": "2024-06-30T19:40:29.476Z"
   },
   {
    "duration": 875,
    "start_time": "2024-06-30T19:41:31.816Z"
   },
   {
    "duration": 206,
    "start_time": "2024-06-30T19:41:32.694Z"
   },
   {
    "duration": 190,
    "start_time": "2024-06-30T19:41:32.901Z"
   },
   {
    "duration": 235,
    "start_time": "2024-06-30T19:41:33.093Z"
   },
   {
    "duration": 17,
    "start_time": "2024-06-30T19:41:33.330Z"
   },
   {
    "duration": 9,
    "start_time": "2024-06-30T19:41:33.349Z"
   },
   {
    "duration": 15,
    "start_time": "2024-06-30T19:41:33.360Z"
   },
   {
    "duration": 15,
    "start_time": "2024-06-30T19:41:33.377Z"
   },
   {
    "duration": 13,
    "start_time": "2024-06-30T19:41:33.394Z"
   },
   {
    "duration": 13,
    "start_time": "2024-06-30T19:41:33.411Z"
   },
   {
    "duration": 20,
    "start_time": "2024-06-30T19:41:33.426Z"
   },
   {
    "duration": 9,
    "start_time": "2024-06-30T19:41:33.447Z"
   },
   {
    "duration": 15,
    "start_time": "2024-06-30T19:41:33.458Z"
   },
   {
    "duration": 30,
    "start_time": "2024-06-30T19:41:33.475Z"
   },
   {
    "duration": 17,
    "start_time": "2024-06-30T19:41:33.507Z"
   },
   {
    "duration": 68,
    "start_time": "2024-06-30T19:41:33.526Z"
   },
   {
    "duration": 26,
    "start_time": "2024-06-30T19:41:33.595Z"
   },
   {
    "duration": 16,
    "start_time": "2024-06-30T19:41:33.623Z"
   },
   {
    "duration": 29,
    "start_time": "2024-06-30T19:41:33.640Z"
   },
   {
    "duration": 5,
    "start_time": "2024-06-30T19:41:33.671Z"
   },
   {
    "duration": 193,
    "start_time": "2024-06-30T19:41:33.678Z"
   },
   {
    "duration": 157,
    "start_time": "2024-06-30T19:41:33.872Z"
   },
   {
    "duration": 16,
    "start_time": "2024-06-30T19:41:34.031Z"
   },
   {
    "duration": 329,
    "start_time": "2024-06-30T19:41:34.048Z"
   },
   {
    "duration": 11,
    "start_time": "2024-06-30T19:41:34.378Z"
   },
   {
    "duration": 279,
    "start_time": "2024-06-30T19:41:34.391Z"
   },
   {
    "duration": 11,
    "start_time": "2024-06-30T19:41:34.673Z"
   },
   {
    "duration": 210,
    "start_time": "2024-06-30T19:41:34.689Z"
   },
   {
    "duration": 12,
    "start_time": "2024-06-30T19:41:34.901Z"
   },
   {
    "duration": 14,
    "start_time": "2024-06-30T19:41:34.915Z"
   },
   {
    "duration": 20,
    "start_time": "2024-06-30T19:41:34.931Z"
   },
   {
    "duration": 12,
    "start_time": "2024-06-30T19:41:34.953Z"
   },
   {
    "duration": 10,
    "start_time": "2024-06-30T19:41:34.967Z"
   },
   {
    "duration": 13,
    "start_time": "2024-06-30T19:41:34.978Z"
   },
   {
    "duration": 7,
    "start_time": "2024-06-30T19:41:34.993Z"
   },
   {
    "duration": 51,
    "start_time": "2024-06-30T19:41:35.001Z"
   },
   {
    "duration": 350,
    "start_time": "2024-06-30T19:41:35.054Z"
   },
   {
    "duration": 9,
    "start_time": "2024-06-30T19:41:35.405Z"
   },
   {
    "duration": 7,
    "start_time": "2024-06-30T19:41:35.416Z"
   },
   {
    "duration": 348,
    "start_time": "2024-06-30T19:41:35.425Z"
   },
   {
    "duration": 10,
    "start_time": "2024-06-30T19:41:35.774Z"
   },
   {
    "duration": 9,
    "start_time": "2024-06-30T19:41:35.785Z"
   },
   {
    "duration": 64,
    "start_time": "2024-06-30T19:41:35.796Z"
   },
   {
    "duration": 3,
    "start_time": "2024-06-30T19:41:35.862Z"
   },
   {
    "duration": 30,
    "start_time": "2024-06-30T19:41:35.867Z"
   },
   {
    "duration": 43,
    "start_time": "2024-06-30T19:41:35.898Z"
   },
   {
    "duration": 19,
    "start_time": "2024-06-30T19:41:35.942Z"
   },
   {
    "duration": 24,
    "start_time": "2024-06-30T19:41:35.963Z"
   },
   {
    "duration": 33,
    "start_time": "2024-06-30T19:41:35.989Z"
   },
   {
    "duration": 522,
    "start_time": "2024-06-30T19:41:36.024Z"
   },
   {
    "duration": 5,
    "start_time": "2024-06-30T19:41:36.548Z"
   },
   {
    "duration": 10,
    "start_time": "2024-06-30T19:41:36.561Z"
   },
   {
    "duration": 186,
    "start_time": "2024-06-30T19:47:45.165Z"
   },
   {
    "duration": 388,
    "start_time": "2024-06-30T19:49:47.132Z"
   },
   {
    "duration": 221,
    "start_time": "2024-06-30T19:50:52.829Z"
   },
   {
    "duration": 16,
    "start_time": "2024-06-30T19:55:29.818Z"
   },
   {
    "duration": 763,
    "start_time": "2024-07-01T19:53:40.833Z"
   },
   {
    "duration": 283,
    "start_time": "2024-07-01T19:53:41.598Z"
   },
   {
    "duration": 11,
    "start_time": "2024-07-01T19:53:41.882Z"
   },
   {
    "duration": 53,
    "start_time": "2024-07-01T19:53:41.894Z"
   },
   {
    "duration": 10,
    "start_time": "2024-07-01T19:53:41.949Z"
   },
   {
    "duration": 8,
    "start_time": "2024-07-01T19:53:41.961Z"
   },
   {
    "duration": 10,
    "start_time": "2024-07-01T19:53:41.971Z"
   },
   {
    "duration": 31,
    "start_time": "2024-07-01T19:53:41.982Z"
   },
   {
    "duration": 12,
    "start_time": "2024-07-01T19:53:42.014Z"
   },
   {
    "duration": 9,
    "start_time": "2024-07-01T19:53:42.028Z"
   },
   {
    "duration": 3,
    "start_time": "2024-07-01T19:53:42.039Z"
   },
   {
    "duration": 15,
    "start_time": "2024-07-01T19:53:42.043Z"
   },
   {
    "duration": 6,
    "start_time": "2024-07-01T19:53:42.059Z"
   },
   {
    "duration": 5,
    "start_time": "2024-07-01T19:53:42.066Z"
   },
   {
    "duration": 5,
    "start_time": "2024-07-01T19:53:42.072Z"
   },
   {
    "duration": 31,
    "start_time": "2024-07-01T19:53:42.078Z"
   },
   {
    "duration": 7,
    "start_time": "2024-07-01T19:53:42.111Z"
   },
   {
    "duration": 11,
    "start_time": "2024-07-01T19:53:42.119Z"
   },
   {
    "duration": 8,
    "start_time": "2024-07-01T19:53:42.131Z"
   },
   {
    "duration": 5,
    "start_time": "2024-07-01T19:53:42.140Z"
   },
   {
    "duration": 178,
    "start_time": "2024-07-01T19:53:42.146Z"
   },
   {
    "duration": 137,
    "start_time": "2024-07-01T19:53:42.326Z"
   },
   {
    "duration": 6,
    "start_time": "2024-07-01T19:53:42.464Z"
   },
   {
    "duration": 263,
    "start_time": "2024-07-01T19:53:42.472Z"
   },
   {
    "duration": 9,
    "start_time": "2024-07-01T19:53:42.736Z"
   },
   {
    "duration": 205,
    "start_time": "2024-07-01T19:53:42.746Z"
   },
   {
    "duration": 7,
    "start_time": "2024-07-01T19:53:42.953Z"
   },
   {
    "duration": 209,
    "start_time": "2024-07-01T19:53:42.965Z"
   },
   {
    "duration": 10,
    "start_time": "2024-07-01T19:53:43.175Z"
   },
   {
    "duration": 24,
    "start_time": "2024-07-01T19:53:43.186Z"
   },
   {
    "duration": 11,
    "start_time": "2024-07-01T19:53:43.212Z"
   },
   {
    "duration": 13,
    "start_time": "2024-07-01T19:53:43.224Z"
   },
   {
    "duration": 10,
    "start_time": "2024-07-01T19:53:43.238Z"
   },
   {
    "duration": 14,
    "start_time": "2024-07-01T19:53:43.250Z"
   },
   {
    "duration": 10,
    "start_time": "2024-07-01T19:53:43.266Z"
   },
   {
    "duration": 14,
    "start_time": "2024-07-01T19:53:43.277Z"
   },
   {
    "duration": 23,
    "start_time": "2024-07-01T19:53:43.292Z"
   },
   {
    "duration": 322,
    "start_time": "2024-07-01T19:53:43.317Z"
   },
   {
    "duration": 7,
    "start_time": "2024-07-01T19:53:43.640Z"
   },
   {
    "duration": 6,
    "start_time": "2024-07-01T19:53:43.648Z"
   },
   {
    "duration": 230,
    "start_time": "2024-07-01T19:53:43.655Z"
   },
   {
    "duration": 7,
    "start_time": "2024-07-01T19:53:43.887Z"
   },
   {
    "duration": 82,
    "start_time": "2024-07-01T19:53:43.895Z"
   },
   {
    "duration": 32,
    "start_time": "2024-07-01T19:53:43.978Z"
   },
   {
    "duration": 3,
    "start_time": "2024-07-01T19:53:44.011Z"
   },
   {
    "duration": 19,
    "start_time": "2024-07-01T19:53:44.015Z"
   },
   {
    "duration": 9,
    "start_time": "2024-07-01T19:53:44.035Z"
   },
   {
    "duration": 12,
    "start_time": "2024-07-01T19:53:44.045Z"
   },
   {
    "duration": 13,
    "start_time": "2024-07-01T19:53:44.059Z"
   },
   {
    "duration": 7,
    "start_time": "2024-07-01T19:53:44.073Z"
   },
   {
    "duration": 458,
    "start_time": "2024-07-01T19:53:44.081Z"
   },
   {
    "duration": 4,
    "start_time": "2024-07-01T19:53:44.540Z"
   },
   {
    "duration": 11,
    "start_time": "2024-07-01T19:53:44.545Z"
   },
   {
    "duration": 543,
    "start_time": "2024-07-01T20:02:39.066Z"
   },
   {
    "duration": 70,
    "start_time": "2024-07-01T20:02:39.610Z"
   },
   {
    "duration": 11,
    "start_time": "2024-07-01T20:02:39.682Z"
   },
   {
    "duration": 43,
    "start_time": "2024-07-01T20:02:39.694Z"
   },
   {
    "duration": 11,
    "start_time": "2024-07-01T20:02:39.738Z"
   },
   {
    "duration": 7,
    "start_time": "2024-07-01T20:02:39.750Z"
   },
   {
    "duration": 9,
    "start_time": "2024-07-01T20:02:39.758Z"
   },
   {
    "duration": 6,
    "start_time": "2024-07-01T20:02:39.769Z"
   },
   {
    "duration": 11,
    "start_time": "2024-07-01T20:02:39.776Z"
   },
   {
    "duration": 7,
    "start_time": "2024-07-01T20:02:39.789Z"
   },
   {
    "duration": 3,
    "start_time": "2024-07-01T20:02:39.797Z"
   },
   {
    "duration": 14,
    "start_time": "2024-07-01T20:02:39.801Z"
   },
   {
    "duration": 11,
    "start_time": "2024-07-01T20:02:39.816Z"
   },
   {
    "duration": 7,
    "start_time": "2024-07-01T20:02:39.829Z"
   },
   {
    "duration": 7,
    "start_time": "2024-07-01T20:02:39.838Z"
   },
   {
    "duration": 4,
    "start_time": "2024-07-01T20:02:39.846Z"
   },
   {
    "duration": 7,
    "start_time": "2024-07-01T20:02:39.852Z"
   },
   {
    "duration": 11,
    "start_time": "2024-07-01T20:02:39.860Z"
   },
   {
    "duration": 6,
    "start_time": "2024-07-01T20:02:39.872Z"
   },
   {
    "duration": 22,
    "start_time": "2024-07-01T20:02:39.879Z"
   },
   {
    "duration": 184,
    "start_time": "2024-07-01T20:02:39.903Z"
   },
   {
    "duration": 138,
    "start_time": "2024-07-01T20:02:40.088Z"
   },
   {
    "duration": 7,
    "start_time": "2024-07-01T20:02:40.228Z"
   },
   {
    "duration": 276,
    "start_time": "2024-07-01T20:02:40.237Z"
   },
   {
    "duration": 7,
    "start_time": "2024-07-01T20:02:40.514Z"
   },
   {
    "duration": 224,
    "start_time": "2024-07-01T20:02:40.523Z"
   },
   {
    "duration": 7,
    "start_time": "2024-07-01T20:02:40.749Z"
   },
   {
    "duration": 178,
    "start_time": "2024-07-01T20:02:40.760Z"
   },
   {
    "duration": 9,
    "start_time": "2024-07-01T20:02:40.940Z"
   },
   {
    "duration": 9,
    "start_time": "2024-07-01T20:02:40.951Z"
   },
   {
    "duration": 9,
    "start_time": "2024-07-01T20:02:40.961Z"
   },
   {
    "duration": 13,
    "start_time": "2024-07-01T20:02:40.971Z"
   },
   {
    "duration": 10,
    "start_time": "2024-07-01T20:02:41.009Z"
   },
   {
    "duration": 18,
    "start_time": "2024-07-01T20:02:41.020Z"
   },
   {
    "duration": 10,
    "start_time": "2024-07-01T20:02:41.040Z"
   },
   {
    "duration": 5,
    "start_time": "2024-07-01T20:02:41.051Z"
   },
   {
    "duration": 13,
    "start_time": "2024-07-01T20:02:41.058Z"
   },
   {
    "duration": 263,
    "start_time": "2024-07-01T20:02:41.072Z"
   },
   {
    "duration": 8,
    "start_time": "2024-07-01T20:02:41.336Z"
   },
   {
    "duration": 7,
    "start_time": "2024-07-01T20:02:41.345Z"
   },
   {
    "duration": 244,
    "start_time": "2024-07-01T20:02:41.353Z"
   },
   {
    "duration": 10,
    "start_time": "2024-07-01T20:02:41.599Z"
   },
   {
    "duration": 7,
    "start_time": "2024-07-01T20:02:41.611Z"
   },
   {
    "duration": 68,
    "start_time": "2024-07-01T20:02:41.620Z"
   },
   {
    "duration": 0,
    "start_time": "2024-07-01T20:02:41.689Z"
   },
   {
    "duration": 0,
    "start_time": "2024-07-01T20:02:41.690Z"
   },
   {
    "duration": 0,
    "start_time": "2024-07-01T20:02:41.691Z"
   },
   {
    "duration": 0,
    "start_time": "2024-07-01T20:02:41.692Z"
   },
   {
    "duration": 0,
    "start_time": "2024-07-01T20:02:41.693Z"
   },
   {
    "duration": 0,
    "start_time": "2024-07-01T20:02:41.693Z"
   },
   {
    "duration": 0,
    "start_time": "2024-07-01T20:02:41.709Z"
   },
   {
    "duration": 0,
    "start_time": "2024-07-01T20:02:41.710Z"
   },
   {
    "duration": 0,
    "start_time": "2024-07-01T20:02:41.711Z"
   },
   {
    "duration": 0,
    "start_time": "2024-07-01T20:02:41.712Z"
   },
   {
    "duration": 3,
    "start_time": "2024-07-01T20:04:06.216Z"
   },
   {
    "duration": 33,
    "start_time": "2024-07-01T20:04:09.744Z"
   },
   {
    "duration": 3,
    "start_time": "2024-07-01T20:04:11.422Z"
   },
   {
    "duration": 8,
    "start_time": "2024-07-01T20:04:17.198Z"
   },
   {
    "duration": 70,
    "start_time": "2024-07-01T20:06:18.795Z"
   },
   {
    "duration": 4,
    "start_time": "2024-07-01T20:08:00.342Z"
   },
   {
    "duration": 10,
    "start_time": "2024-07-01T20:08:01.766Z"
   },
   {
    "duration": 4,
    "start_time": "2024-07-01T20:08:04.563Z"
   },
   {
    "duration": 559,
    "start_time": "2024-07-01T20:10:23.641Z"
   },
   {
    "duration": 60,
    "start_time": "2024-07-01T20:10:24.202Z"
   },
   {
    "duration": 10,
    "start_time": "2024-07-01T20:10:24.264Z"
   },
   {
    "duration": 11,
    "start_time": "2024-07-01T20:10:24.275Z"
   },
   {
    "duration": 8,
    "start_time": "2024-07-01T20:10:24.287Z"
   },
   {
    "duration": 15,
    "start_time": "2024-07-01T20:10:24.297Z"
   },
   {
    "duration": 9,
    "start_time": "2024-07-01T20:10:24.313Z"
   },
   {
    "duration": 6,
    "start_time": "2024-07-01T20:10:24.323Z"
   },
   {
    "duration": 14,
    "start_time": "2024-07-01T20:10:24.330Z"
   },
   {
    "duration": 8,
    "start_time": "2024-07-01T20:10:24.346Z"
   },
   {
    "duration": 8,
    "start_time": "2024-07-01T20:10:24.356Z"
   },
   {
    "duration": 7,
    "start_time": "2024-07-01T20:10:24.365Z"
   },
   {
    "duration": 5,
    "start_time": "2024-07-01T20:10:24.373Z"
   },
   {
    "duration": 5,
    "start_time": "2024-07-01T20:10:24.379Z"
   },
   {
    "duration": 5,
    "start_time": "2024-07-01T20:10:24.409Z"
   },
   {
    "duration": 10,
    "start_time": "2024-07-01T20:10:24.415Z"
   },
   {
    "duration": 6,
    "start_time": "2024-07-01T20:10:24.427Z"
   },
   {
    "duration": 4,
    "start_time": "2024-07-01T20:10:24.434Z"
   },
   {
    "duration": 5,
    "start_time": "2024-07-01T20:10:24.439Z"
   },
   {
    "duration": 7,
    "start_time": "2024-07-01T20:10:24.445Z"
   },
   {
    "duration": 212,
    "start_time": "2024-07-01T20:10:24.453Z"
   },
   {
    "duration": 127,
    "start_time": "2024-07-01T20:10:24.666Z"
   },
   {
    "duration": 16,
    "start_time": "2024-07-01T20:10:24.794Z"
   },
   {
    "duration": 267,
    "start_time": "2024-07-01T20:10:24.811Z"
   },
   {
    "duration": 6,
    "start_time": "2024-07-01T20:10:25.080Z"
   },
   {
    "duration": 232,
    "start_time": "2024-07-01T20:10:25.088Z"
   },
   {
    "duration": 7,
    "start_time": "2024-07-01T20:10:25.321Z"
   },
   {
    "duration": 178,
    "start_time": "2024-07-01T20:10:25.331Z"
   },
   {
    "duration": 9,
    "start_time": "2024-07-01T20:10:25.510Z"
   },
   {
    "duration": 9,
    "start_time": "2024-07-01T20:10:25.521Z"
   },
   {
    "duration": 9,
    "start_time": "2024-07-01T20:10:25.531Z"
   },
   {
    "duration": 12,
    "start_time": "2024-07-01T20:10:25.541Z"
   },
   {
    "duration": 9,
    "start_time": "2024-07-01T20:10:25.554Z"
   },
   {
    "duration": 7,
    "start_time": "2024-07-01T20:10:25.565Z"
   },
   {
    "duration": 37,
    "start_time": "2024-07-01T20:10:25.573Z"
   },
   {
    "duration": 6,
    "start_time": "2024-07-01T20:10:25.612Z"
   },
   {
    "duration": 10,
    "start_time": "2024-07-01T20:10:25.619Z"
   },
   {
    "duration": 268,
    "start_time": "2024-07-01T20:10:25.630Z"
   },
   {
    "duration": 10,
    "start_time": "2024-07-01T20:10:25.900Z"
   },
   {
    "duration": 6,
    "start_time": "2024-07-01T20:10:25.911Z"
   },
   {
    "duration": 283,
    "start_time": "2024-07-01T20:10:25.919Z"
   },
   {
    "duration": 7,
    "start_time": "2024-07-01T20:10:26.208Z"
   },
   {
    "duration": 6,
    "start_time": "2024-07-01T20:10:26.216Z"
   },
   {
    "duration": 4,
    "start_time": "2024-07-01T20:10:26.223Z"
   },
   {
    "duration": 34,
    "start_time": "2024-07-01T20:10:26.228Z"
   },
   {
    "duration": 3,
    "start_time": "2024-07-01T20:10:26.263Z"
   },
   {
    "duration": 11,
    "start_time": "2024-07-01T20:10:26.267Z"
   },
   {
    "duration": 4,
    "start_time": "2024-07-01T20:10:26.310Z"
   },
   {
    "duration": 18,
    "start_time": "2024-07-01T20:10:26.316Z"
   },
   {
    "duration": 4,
    "start_time": "2024-07-01T20:10:26.336Z"
   },
   {
    "duration": 405,
    "start_time": "2024-07-01T20:10:26.341Z"
   },
   {
    "duration": 6,
    "start_time": "2024-07-01T20:10:26.747Z"
   },
   {
    "duration": 7,
    "start_time": "2024-07-01T20:10:26.754Z"
   },
   {
    "duration": 69,
    "start_time": "2024-07-01T20:11:58.826Z"
   },
   {
    "duration": 595,
    "start_time": "2024-07-01T20:31:18.627Z"
   },
   {
    "duration": 62,
    "start_time": "2024-07-01T20:31:19.224Z"
   },
   {
    "duration": 10,
    "start_time": "2024-07-01T20:31:19.287Z"
   },
   {
    "duration": 21,
    "start_time": "2024-07-01T20:31:19.299Z"
   },
   {
    "duration": 13,
    "start_time": "2024-07-01T20:31:19.321Z"
   },
   {
    "duration": 13,
    "start_time": "2024-07-01T20:31:19.335Z"
   },
   {
    "duration": 11,
    "start_time": "2024-07-01T20:31:19.349Z"
   },
   {
    "duration": 9,
    "start_time": "2024-07-01T20:31:19.361Z"
   },
   {
    "duration": 14,
    "start_time": "2024-07-01T20:31:19.371Z"
   },
   {
    "duration": 8,
    "start_time": "2024-07-01T20:31:19.387Z"
   },
   {
    "duration": 15,
    "start_time": "2024-07-01T20:31:19.396Z"
   },
   {
    "duration": 20,
    "start_time": "2024-07-01T20:31:19.413Z"
   },
   {
    "duration": 10,
    "start_time": "2024-07-01T20:31:19.434Z"
   },
   {
    "duration": 8,
    "start_time": "2024-07-01T20:31:19.445Z"
   },
   {
    "duration": 5,
    "start_time": "2024-07-01T20:31:19.454Z"
   },
   {
    "duration": 11,
    "start_time": "2024-07-01T20:31:19.460Z"
   },
   {
    "duration": 17,
    "start_time": "2024-07-01T20:31:19.472Z"
   },
   {
    "duration": 5,
    "start_time": "2024-07-01T20:31:19.491Z"
   },
   {
    "duration": 6,
    "start_time": "2024-07-01T20:31:19.512Z"
   },
   {
    "duration": 9,
    "start_time": "2024-07-01T20:31:19.520Z"
   },
   {
    "duration": 194,
    "start_time": "2024-07-01T20:31:19.531Z"
   },
   {
    "duration": 129,
    "start_time": "2024-07-01T20:31:19.727Z"
   },
   {
    "duration": 6,
    "start_time": "2024-07-01T20:31:19.857Z"
   },
   {
    "duration": 296,
    "start_time": "2024-07-01T20:31:19.864Z"
   },
   {
    "duration": 7,
    "start_time": "2024-07-01T20:31:20.161Z"
   },
   {
    "duration": 221,
    "start_time": "2024-07-01T20:31:20.170Z"
   },
   {
    "duration": 7,
    "start_time": "2024-07-01T20:31:20.392Z"
   },
   {
    "duration": 177,
    "start_time": "2024-07-01T20:31:20.408Z"
   },
   {
    "duration": 9,
    "start_time": "2024-07-01T20:31:20.586Z"
   },
   {
    "duration": 24,
    "start_time": "2024-07-01T20:31:20.596Z"
   },
   {
    "duration": 15,
    "start_time": "2024-07-01T20:31:20.621Z"
   },
   {
    "duration": 12,
    "start_time": "2024-07-01T20:31:20.637Z"
   },
   {
    "duration": 10,
    "start_time": "2024-07-01T20:31:20.650Z"
   },
   {
    "duration": 31,
    "start_time": "2024-07-01T20:31:20.661Z"
   },
   {
    "duration": 44,
    "start_time": "2024-07-01T20:31:20.693Z"
   },
   {
    "duration": 17,
    "start_time": "2024-07-01T20:31:20.738Z"
   },
   {
    "duration": 72,
    "start_time": "2024-07-01T20:31:20.756Z"
   },
   {
    "duration": 254,
    "start_time": "2024-07-01T20:31:20.830Z"
   },
   {
    "duration": 7,
    "start_time": "2024-07-01T20:31:21.085Z"
   },
   {
    "duration": 16,
    "start_time": "2024-07-01T20:31:21.094Z"
   },
   {
    "duration": 246,
    "start_time": "2024-07-01T20:31:21.112Z"
   },
   {
    "duration": 7,
    "start_time": "2024-07-01T20:31:21.359Z"
   },
   {
    "duration": 8,
    "start_time": "2024-07-01T20:31:21.367Z"
   },
   {
    "duration": 11,
    "start_time": "2024-07-01T20:31:21.376Z"
   },
   {
    "duration": 47,
    "start_time": "2024-07-01T20:31:21.388Z"
   },
   {
    "duration": 3,
    "start_time": "2024-07-01T20:31:21.437Z"
   },
   {
    "duration": 18,
    "start_time": "2024-07-01T20:31:21.441Z"
   },
   {
    "duration": 6,
    "start_time": "2024-07-01T20:31:21.461Z"
   },
   {
    "duration": 9,
    "start_time": "2024-07-01T20:31:21.469Z"
   },
   {
    "duration": 6,
    "start_time": "2024-07-01T20:31:21.480Z"
   },
   {
    "duration": 474,
    "start_time": "2024-07-01T20:31:21.488Z"
   },
   {
    "duration": 4,
    "start_time": "2024-07-01T20:31:21.964Z"
   },
   {
    "duration": 8,
    "start_time": "2024-07-01T20:31:21.970Z"
   }
  ],
  "kernelspec": {
   "display_name": "Python 3 (ipykernel)",
   "language": "python",
   "name": "python3"
  },
  "language_info": {
   "codemirror_mode": {
    "name": "ipython",
    "version": 3
   },
   "file_extension": ".py",
   "mimetype": "text/x-python",
   "name": "python",
   "nbconvert_exporter": "python",
   "pygments_lexer": "ipython3",
   "version": "3.9.5"
  },
  "toc": {
   "base_numbering": 1,
   "nav_menu": {},
   "number_sections": true,
   "sideBar": true,
   "skip_h1_title": true,
   "title_cell": "Table of Contents",
   "title_sidebar": "Contents",
   "toc_cell": false,
   "toc_position": {},
   "toc_section_display": true,
   "toc_window_display": false
  }
 },
 "nbformat": 4,
 "nbformat_minor": 5
}
